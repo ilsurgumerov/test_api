{
  "cells": [
    {
      "cell_type": "code",
      "execution_count": 1,
      "id": "dfe060bd",
      "metadata": {
        "id": "dfe060bd"
      },
      "outputs": [],
      "source": [
        "import pandas as pd\n",
        "import numpy as np\n",
        "import matplotlib.pyplot as plt\n",
        "import seaborn as sns\n",
        "import plotly.express as px\n",
        "import plotly.figure_factory as ff\n",
        "\n",
        "from sklearn.preprocessing import StandardScaler, OneHotEncoder\n",
        "from sklearn.model_selection import train_test_split, GridSearchCV\n",
        "from sklearn.tree import DecisionTreeClassifier\n",
        "from sklearn.ensemble import RandomForestClassifier\n",
        "from sklearn.neighbors import KNeighborsClassifier\n",
        "from sklearn.svm import SVC\n",
        "from sklearn.metrics import confusion_matrix, classification_report\n",
        "from sklearn.inspection import permutation_importance\n",
        "\n",
        "from sklearn.pipeline import Pipeline\n",
        "from sklearn.preprocessing import FunctionTransformer\n",
        "from sklearn.compose import ColumnTransformer\n",
        "\n",
        "from xgboost import XGBClassifier\n",
        "from sklearn.linear_model import LogisticRegression\n",
        "import pickle\n",
        "from preprocessing import drop_columns, custom_mapping\n"
      ]
    },
    {
      "cell_type": "code",
      "execution_count": null,
      "id": "e2ee2072",
      "metadata": {
        "id": "e2ee2072"
      },
      "outputs": [
        {
          "data": {
            "text/html": [
              "<div>\n",
              "<style scoped>\n",
              "    .dataframe tbody tr th:only-of-type {\n",
              "        vertical-align: middle;\n",
              "    }\n",
              "\n",
              "    .dataframe tbody tr th {\n",
              "        vertical-align: top;\n",
              "    }\n",
              "\n",
              "    .dataframe thead th {\n",
              "        text-align: right;\n",
              "    }\n",
              "</style>\n",
              "<table border=\"1\" class=\"dataframe\">\n",
              "  <thead>\n",
              "    <tr style=\"text-align: right;\">\n",
              "      <th></th>\n",
              "      <th>id</th>\n",
              "      <th>Gender</th>\n",
              "      <th>Age</th>\n",
              "      <th>Driving_License</th>\n",
              "      <th>Region_Code</th>\n",
              "      <th>Previously_Insured</th>\n",
              "      <th>Vehicle_Age</th>\n",
              "      <th>Vehicle_Damage</th>\n",
              "      <th>Annual_Premium</th>\n",
              "      <th>Policy_Sales_Channel</th>\n",
              "      <th>Vintage</th>\n",
              "      <th>Response</th>\n",
              "    </tr>\n",
              "  </thead>\n",
              "  <tbody>\n",
              "    <tr>\n",
              "      <th>0</th>\n",
              "      <td>0</td>\n",
              "      <td>Male</td>\n",
              "      <td>21</td>\n",
              "      <td>1</td>\n",
              "      <td>35.0</td>\n",
              "      <td>0</td>\n",
              "      <td>1-2 Year</td>\n",
              "      <td>Yes</td>\n",
              "      <td>65101.0</td>\n",
              "      <td>124.0</td>\n",
              "      <td>187</td>\n",
              "      <td>0</td>\n",
              "    </tr>\n",
              "    <tr>\n",
              "      <th>1</th>\n",
              "      <td>1</td>\n",
              "      <td>Male</td>\n",
              "      <td>43</td>\n",
              "      <td>1</td>\n",
              "      <td>28.0</td>\n",
              "      <td>0</td>\n",
              "      <td>&gt; 2 Years</td>\n",
              "      <td>Yes</td>\n",
              "      <td>58911.0</td>\n",
              "      <td>26.0</td>\n",
              "      <td>288</td>\n",
              "      <td>1</td>\n",
              "    </tr>\n",
              "    <tr>\n",
              "      <th>2</th>\n",
              "      <td>2</td>\n",
              "      <td>Female</td>\n",
              "      <td>25</td>\n",
              "      <td>1</td>\n",
              "      <td>14.0</td>\n",
              "      <td>1</td>\n",
              "      <td>&lt; 1 Year</td>\n",
              "      <td>No</td>\n",
              "      <td>38043.0</td>\n",
              "      <td>152.0</td>\n",
              "      <td>254</td>\n",
              "      <td>0</td>\n",
              "    </tr>\n",
              "    <tr>\n",
              "      <th>3</th>\n",
              "      <td>3</td>\n",
              "      <td>Female</td>\n",
              "      <td>35</td>\n",
              "      <td>1</td>\n",
              "      <td>1.0</td>\n",
              "      <td>0</td>\n",
              "      <td>1-2 Year</td>\n",
              "      <td>Yes</td>\n",
              "      <td>2630.0</td>\n",
              "      <td>156.0</td>\n",
              "      <td>76</td>\n",
              "      <td>0</td>\n",
              "    </tr>\n",
              "    <tr>\n",
              "      <th>4</th>\n",
              "      <td>4</td>\n",
              "      <td>Female</td>\n",
              "      <td>36</td>\n",
              "      <td>1</td>\n",
              "      <td>15.0</td>\n",
              "      <td>1</td>\n",
              "      <td>1-2 Year</td>\n",
              "      <td>No</td>\n",
              "      <td>31951.0</td>\n",
              "      <td>152.0</td>\n",
              "      <td>294</td>\n",
              "      <td>0</td>\n",
              "    </tr>\n",
              "  </tbody>\n",
              "</table>\n",
              "</div>"
            ],
            "text/plain": [
              "   id  Gender  Age  Driving_License  Region_Code  Previously_Insured  \\\n",
              "0   0    Male   21                1         35.0                   0   \n",
              "1   1    Male   43                1         28.0                   0   \n",
              "2   2  Female   25                1         14.0                   1   \n",
              "3   3  Female   35                1          1.0                   0   \n",
              "4   4  Female   36                1         15.0                   1   \n",
              "\n",
              "  Vehicle_Age Vehicle_Damage  Annual_Premium  Policy_Sales_Channel  Vintage  \\\n",
              "0    1-2 Year            Yes         65101.0                 124.0      187   \n",
              "1   > 2 Years            Yes         58911.0                  26.0      288   \n",
              "2    < 1 Year             No         38043.0                 152.0      254   \n",
              "3    1-2 Year            Yes          2630.0                 156.0       76   \n",
              "4    1-2 Year             No         31951.0                 152.0      294   \n",
              "\n",
              "   Response  \n",
              "0         0  \n",
              "1         1  \n",
              "2         0  \n",
              "3         0  \n",
              "4         0  "
            ]
          },
          "execution_count": 2,
          "metadata": {},
          "output_type": "execute_result"
        }
      ],
      "source": [
        "df = pd.read_csv('train.csv')\n",
        "df.head()"
      ]
    },
    {
      "cell_type": "code",
      "execution_count": 3,
      "id": "8e1445fa",
      "metadata": {
        "id": "8e1445fa",
        "outputId": "cb74ddc4-a812-4620-ac0d-01da8de771f9"
      },
      "outputs": [
        {
          "name": "stdout",
          "output_type": "stream",
          "text": [
            "<class 'pandas.core.frame.DataFrame'>\n",
            "RangeIndex: 11504798 entries, 0 to 11504797\n",
            "Data columns (total 12 columns):\n",
            " #   Column                Dtype  \n",
            "---  ------                -----  \n",
            " 0   id                    int64  \n",
            " 1   Gender                object \n",
            " 2   Age                   int64  \n",
            " 3   Driving_License       int64  \n",
            " 4   Region_Code           float64\n",
            " 5   Previously_Insured    int64  \n",
            " 6   Vehicle_Age           object \n",
            " 7   Vehicle_Damage        object \n",
            " 8   Annual_Premium        float64\n",
            " 9   Policy_Sales_Channel  float64\n",
            " 10  Vintage               int64  \n",
            " 11  Response              int64  \n",
            "dtypes: float64(3), int64(6), object(3)\n",
            "memory usage: 1.0+ GB\n"
          ]
        }
      ],
      "source": [
        "df.info()"
      ]
    },
    {
      "cell_type": "code",
      "execution_count": 4,
      "id": "a99fa143",
      "metadata": {},
      "outputs": [
        {
          "data": {
            "text/plain": [
              "id                      0\n",
              "Gender                  0\n",
              "Age                     0\n",
              "Driving_License         0\n",
              "Region_Code             0\n",
              "Previously_Insured      0\n",
              "Vehicle_Age             0\n",
              "Vehicle_Damage          0\n",
              "Annual_Premium          0\n",
              "Policy_Sales_Channel    0\n",
              "Vintage                 0\n",
              "Response                0\n",
              "dtype: int64"
            ]
          },
          "execution_count": 4,
          "metadata": {},
          "output_type": "execute_result"
        }
      ],
      "source": [
        "df.isna().sum()"
      ]
    },
    {
      "cell_type": "markdown",
      "id": "0336e260",
      "metadata": {},
      "source": [
        "## Исследовательский анализ"
      ]
    },
    {
      "cell_type": "markdown",
      "id": "d48585ed",
      "metadata": {},
      "source": [
        "### Gender"
      ]
    },
    {
      "cell_type": "code",
      "execution_count": 5,
      "id": "969185f1",
      "metadata": {},
      "outputs": [
        {
          "data": {
            "image/png": "[encoded data removed]",
            "text/plain": [
              "<Figure size 700x500 with 1 Axes>"
            ]
          },
          "metadata": {},
          "output_type": "display_data"
        }
      ],
      "source": [
        "gender_counts = df['Gender'].value_counts(normalize=True) * 100\n",
        "\n",
        "# Преобразуем Series в DataFrame для удобства\n",
        "gender_df = gender_counts.reset_index()\n",
        "gender_df.columns = ['Gender', 'Percentage']\n",
        "\n",
        "# Строим график\n",
        "plt.figure(figsize=(7, 5))\n",
        "barplot = sns.barplot(x='Gender', y='Percentage', data=gender_df, hue='Gender', palette='pastel', legend=False)\n",
        "\n",
        "# Добавляем подписи с процентами на каждый столбец\n",
        "for index, row in gender_df.iterrows():\n",
        "    barplot.text(index, row['Percentage'] + 1, f\"{row['Percentage']:.1f}%\",\n",
        "                 ha='center', fontsize=12, color='black')\n",
        "\n",
        "# Настройка графика\n",
        "plt.title('Gender Distribution', fontsize=16)\n",
        "plt.xlabel('Gender', fontsize=14)\n",
        "plt.ylabel('Percentage (%)', fontsize=14)\n",
        "plt.ylim(0, 100)  # Устанавливаем пределы для оси Y\n",
        "plt.tight_layout()\n",
        "\n",
        "# Показываем график\n",
        "plt.show()"
      ]
    },
    {
      "cell_type": "code",
      "execution_count": 6,
      "id": "ce6b27e6",
      "metadata": {},
      "outputs": [
        {
          "data": {
            "image/png": "[encoded data removed]",
            "text/plain": [
              "<Figure size 1400x500 with 2 Axes>"
            ]
          },
          "metadata": {},
          "output_type": "display_data"
        }
      ],
      "source": [
        "# Разделяем данные по значению Response\n",
        "df_0 = df[df['Response'] == 0]\n",
        "df_1 = df[df['Response'] == 1]\n",
        "\n",
        "# Функция для расчета процентного распределения пола\n",
        "def gender_distribution(df):\n",
        "    gender_counts = df['Gender'].value_counts(normalize=True) * 100\n",
        "    gender_df = gender_counts.reset_index()\n",
        "    gender_df.columns = ['Gender', 'Percentage']\n",
        "    return gender_df\n",
        "\n",
        "# Получаем данные\n",
        "gender_df_0 = gender_distribution(df_0)\n",
        "gender_df_1 = gender_distribution(df_1)\n",
        "\n",
        "# Создаем фигуру и оси\n",
        "fig, axes = plt.subplots(1, 2, figsize=(14, 5))\n",
        "\n",
        "# График для Response = 0\n",
        "sns.barplot(x='Gender', y='Percentage', data=gender_df_0, hue='Gender', palette='pastel', legend=False, ax=axes[0])\n",
        "axes[0].set_title('Распределение пола (Response = 0)', fontsize=14)\n",
        "axes[0].set_xlabel('Пол', fontsize=12)\n",
        "axes[0].set_ylabel('Процент (%)', fontsize=12)\n",
        "axes[0].set_ylim(0, 100)\n",
        "\n",
        "# Добавляем подписи\n",
        "for index, row in gender_df_0.iterrows():\n",
        "    axes[0].text(index, row['Percentage'] + 1, f\"{row['Percentage']:.1f}%\",\n",
        "                 ha='center', fontsize=12, color='black')\n",
        "\n",
        "# График для Response = 1\n",
        "sns.barplot(x='Gender', y='Percentage', data=gender_df_1, hue='Gender', palette='pastel', legend=False, ax=axes[1])\n",
        "axes[1].set_title('Распределение пола (Response = 1)', fontsize=14)\n",
        "axes[1].set_xlabel('Пол', fontsize=12)\n",
        "axes[1].set_ylabel('Процент (%)', fontsize=12)\n",
        "axes[1].set_ylim(0, 100)\n",
        "\n",
        "# Добавляем подписи\n",
        "for index, row in gender_df_1.iterrows():\n",
        "    axes[1].text(index, row['Percentage'] + 1, f\"{row['Percentage']:.1f}%\",\n",
        "                 ha='center', fontsize=12, color='black')\n",
        "\n",
        "plt.tight_layout()\n",
        "plt.show()"
      ]
    },
    {
      "cell_type": "markdown",
      "id": "9cf976c3",
      "metadata": {},
      "source": [
        "Распределение немного отличается, поэтому оставляем."
      ]
    },
    {
      "cell_type": "markdown",
      "id": "90f4a420",
      "metadata": {},
      "source": [
        "### Age"
      ]
    },
    {
      "cell_type": "code",
      "execution_count": 7,
      "id": "17a17bf8",
      "metadata": {},
      "outputs": [
        {
          "data": {
            "image/png": "[encoded data removed]",
            "text/plain": [
              "<Figure size 800x500 with 1 Axes>"
            ]
          },
          "metadata": {},
          "output_type": "display_data"
        }
      ],
      "source": [
        "plt.figure(figsize=(8, 5))\n",
        "sns.histplot(df['Age'], kde=True, bins=20, color='blue', stat=\"percent\")\n",
        "plt.title('Распределение возраста', fontsize=14)\n",
        "plt.xlabel('Возраст', fontsize=12)\n",
        "plt.ylabel('Процент (%)', fontsize=12)\n",
        "plt.show()"
      ]
    },
    {
      "cell_type": "code",
      "execution_count": 8,
      "id": "550a5aa7",
      "metadata": {},
      "outputs": [
        {
          "data": {
            "image/png": "[encoded data removed]",
            "text/plain": [
              "<Figure size 1400x500 with 2 Axes>"
            ]
          },
          "metadata": {},
          "output_type": "display_data"
        }
      ],
      "source": [
        "# Разделяем данные по значению Response\n",
        "df_0 = df[df['Response'] == 0]\n",
        "df_1 = df[df['Response'] == 1]\n",
        "\n",
        "# Создаем фигуру и оси\n",
        "fig, axes = plt.subplots(1, 2, figsize=(14, 5))\n",
        "\n",
        "# Гистограмма возраста для Response = 0\n",
        "sns.histplot(df_0['Age'], kde=True, bins=30, color='blue', stat=\"percent\", ax=axes[0])\n",
        "axes[0].set_title('Распределение возраста (Response = 0)', fontsize=14)\n",
        "axes[0].set_xlabel('Возраст', fontsize=12)\n",
        "axes[0].set_ylabel('Процент (%)', fontsize=12)\n",
        "\n",
        "# Гистограмма возраста для Response = 1\n",
        "sns.histplot(df_1['Age'], kde=True, bins=30, color='red', stat=\"percent\", ax=axes[1])\n",
        "axes[1].set_title('Распределение возраста (Response = 1)', fontsize=14)\n",
        "axes[1].set_xlabel('Возраст', fontsize=12)\n",
        "axes[1].set_ylabel('', fontsize=1)\n",
        "\n",
        "plt.tight_layout()\n",
        "plt.show()"
      ]
    },
    {
      "cell_type": "markdown",
      "id": "ba36e2e7",
      "metadata": {},
      "source": [
        "Можно видеть, что для разных response рапределения отличаются, поэтому признак имеет смысл оставить."
      ]
    },
    {
      "cell_type": "markdown",
      "id": "b2ffbcbd",
      "metadata": {},
      "source": [
        "# Driving_License"
      ]
    },
    {
      "cell_type": "code",
      "execution_count": 9,
      "id": "8769963a",
      "metadata": {},
      "outputs": [
        {
          "data": {
            "image/png": "[encoded data removed]",
            "text/plain": [
              "<Figure size 700x500 with 1 Axes>"
            ]
          },
          "metadata": {},
          "output_type": "display_data"
        }
      ],
      "source": [
        "Driving_License_counts = df['Driving_License'].value_counts(normalize=True) * 100\n",
        "\n",
        "# Преобразуем Series в DataFrame для удобства\n",
        "Driving_License_df = Driving_License_counts.reset_index()\n",
        "Driving_License_df.columns = ['Driving_License', 'Percentage']\n",
        "Driving_License_df = Driving_License_df.sort_values('Driving_License').reset_index()\n",
        "# Строим график\n",
        "plt.figure(figsize=(7, 5))\n",
        "barplot = sns.barplot(x='Driving_License', y='Percentage', data=Driving_License_df, hue='Driving_License', palette='pastel', legend=False)\n",
        "\n",
        "# Добавляем подписи с процентами на каждый столбец\n",
        "for index, row in Driving_License_df.iterrows():\n",
        "    barplot.text(index, row['Percentage'] + 1, f\"{row['Percentage']:.1f}%\",\n",
        "                 ha='center', fontsize=12, color='black')\n",
        "\n",
        "# Настройка графика\n",
        "plt.title('Driving_License Distribution', fontsize=16, pad=20)\n",
        "plt.xlabel('Driving_License', fontsize=14)\n",
        "plt.ylabel('Percentage (%)', fontsize=14)\n",
        "plt.ylim(0, 100)  # Устанавливаем пределы для оси Y\n",
        "plt.tight_layout()\n",
        "\n",
        "# Показываем график\n",
        "plt.show()"
      ]
    },
    {
      "cell_type": "markdown",
      "id": "c826f61b",
      "metadata": {},
      "source": [
        "Почти все значение признака равны 1, поэтому его следует удалить."
      ]
    },
    {
      "cell_type": "markdown",
      "id": "65bdcca7",
      "metadata": {},
      "source": [
        "# Previously_Insured"
      ]
    },
    {
      "cell_type": "code",
      "execution_count": 11,
      "id": "228c8918",
      "metadata": {},
      "outputs": [
        {
          "data": {
            "image/png": "[encoded data removed]",
            "text/plain": [
              "<Figure size 700x500 with 1 Axes>"
            ]
          },
          "metadata": {},
          "output_type": "display_data"
        }
      ],
      "source": [
        "Driving_License_counts = df['Previously_Insured'].value_counts(normalize=True) * 100\n",
        "\n",
        "# Преобразуем Series в DataFrame для удобства\n",
        "Driving_License_df = Driving_License_counts.reset_index()\n",
        "Driving_License_df.columns = ['Previously_Insured', 'Percentage']\n",
        "Driving_License_df = Driving_License_df.sort_values('Previously_Insured').reset_index()\n",
        "# Строим график\n",
        "plt.figure(figsize=(7, 5))\n",
        "barplot = sns.barplot(x='Previously_Insured', y='Percentage', data=Driving_License_df, hue='Previously_Insured', palette='pastel', legend=False)\n",
        "\n",
        "# Добавляем подписи с процентами на каждый столбец\n",
        "for index, row in Driving_License_df.iterrows():\n",
        "    barplot.text(index, row['Percentage'] + 1, f\"{row['Percentage']:.1f}%\",\n",
        "                 ha='center', fontsize=12, color='black')\n",
        "\n",
        "# Настройка графика\n",
        "plt.title('Previously_Insured Distribution', fontsize=16, pad=20)\n",
        "plt.xlabel('Previously_Insured', fontsize=14)\n",
        "plt.ylabel('Percentage (%)', fontsize=14)\n",
        "plt.ylim(0, 100)  # Устанавливаем пределы для оси Y\n",
        "plt.tight_layout()\n",
        "\n",
        "# Показываем график\n",
        "plt.show()"
      ]
    },
    {
      "cell_type": "code",
      "execution_count": 12,
      "id": "3a829872",
      "metadata": {},
      "outputs": [
        {
          "data": {
            "image/png": "[encoded data removed]",
            "text/plain": [
              "<Figure size 1400x500 with 2 Axes>"
            ]
          },
          "metadata": {},
          "output_type": "display_data"
        }
      ],
      "source": [
        "# Разделяем данные по значению Response\n",
        "df_0 = df[df['Response'] == 0]\n",
        "df_1 = df[df['Response'] == 1]\n",
        "\n",
        "# Функция для расчета процентного распределения пола\n",
        "def Previously_Insured_distribution(df):\n",
        "    Previously_Insured_counts = df['Previously_Insured'].value_counts(normalize=True) * 100\n",
        "    Previously_Insured_df = Previously_Insured_counts.reset_index()\n",
        "    Previously_Insured_df.columns = ['Previously_Insured', 'Percentage']\n",
        "    return Previously_Insured_df\n",
        "\n",
        "# Получаем данные\n",
        "Previously_Insured_df_0 = Previously_Insured_distribution(df_0)\n",
        "Previously_Insured_df_1 = Previously_Insured_distribution(df_1)\n",
        "\n",
        "# Создаем фигуру и оси\n",
        "fig, axes = plt.subplots(1, 2, figsize=(14, 5))\n",
        "\n",
        "# График для Response = 0\n",
        "sns.barplot(x='Previously_Insured', y='Percentage', data=Previously_Insured_df_0, hue='Previously_Insured', palette='pastel', legend=False, ax=axes[0])\n",
        "axes[0].set_title('Распределение наличия страховки в прошлом (Response = 0)', fontsize=14, pad=20)\n",
        "axes[0].set_xlabel('Была ли страховка', fontsize=12)\n",
        "axes[0].set_ylabel('Процент (%)', fontsize=12)\n",
        "axes[0].set_ylim(0, 100)\n",
        "\n",
        "# Добавляем подписи\n",
        "for index, row in Previously_Insured_df_0.iterrows():\n",
        "    axes[0].text(index, row['Percentage'] + 1, f\"{row['Percentage']:.1f}%\",\n",
        "                 ha='center', fontsize=12, color='black')\n",
        "\n",
        "# График для Response = 1\n",
        "sns.barplot(x='Previously_Insured', y='Percentage', data=Previously_Insured_df_1, hue='Previously_Insured', palette='pastel', legend=False, ax=axes[1])\n",
        "axes[1].set_title('Распределение наличия страховки в прошлом (Response = 1)', fontsize=14, pad=20)\n",
        "axes[1].set_xlabel('Была ли страховка', fontsize=12)\n",
        "axes[1].set_ylabel('Процент (%)', fontsize=12)\n",
        "axes[1].set_ylim(0, 100)\n",
        "\n",
        "# Добавляем подписи\n",
        "for index, row in Previously_Insured_df_1.iterrows():\n",
        "    axes[1].text(index, row['Percentage'] + 1, f\"{row['Percentage']:.1f}%\",\n",
        "                 ha='center', fontsize=12, color='black')\n",
        "\n",
        "plt.tight_layout()\n",
        "plt.show()"
      ]
    },
    {
      "cell_type": "markdown",
      "id": "b18f98f6",
      "metadata": {},
      "source": [
        "Видно, что почти все, кто соглашался на страховку, не имел страховки в прошлом, поэтому признак стоит оставить."
      ]
    },
    {
      "cell_type": "markdown",
      "id": "f8b1ad91",
      "metadata": {},
      "source": [
        "# Vehicle_Age"
      ]
    },
    {
      "cell_type": "code",
      "execution_count": 13,
      "id": "2ee3279a",
      "metadata": {},
      "outputs": [
        {
          "data": {
            "image/png": "[encoded data removed]",
            "text/plain": [
              "<Figure size 700x500 with 1 Axes>"
            ]
          },
          "metadata": {},
          "output_type": "display_data"
        }
      ],
      "source": [
        "Driving_License_counts = df['Vehicle_Age'].value_counts(normalize=True) * 100\n",
        "\n",
        "# Преобразуем Series в DataFrame для удобства\n",
        "Driving_License_df = Driving_License_counts.reset_index()\n",
        "Driving_License_df.columns = ['Vehicle_Age', 'Percentage']\n",
        "Driving_License_df = Driving_License_df.sort_values('Vehicle_Age').reset_index()\n",
        "# Строим график\n",
        "plt.figure(figsize=(7, 5))\n",
        "barplot = sns.barplot(x='Vehicle_Age', y='Percentage', data=Driving_License_df, hue='Vehicle_Age', palette='pastel', legend=False)\n",
        "\n",
        "# Добавляем подписи с процентами на каждый столбец\n",
        "for index, row in Driving_License_df.iterrows():\n",
        "    barplot.text(index, row['Percentage'] + 1, f\"{row['Percentage']:.1f}%\",\n",
        "                 ha='center', fontsize=12, color='black')\n",
        "\n",
        "# Настройка графика\n",
        "plt.title('Vehicle_Age Distribution', fontsize=16, pad=20)\n",
        "plt.xlabel('Vehicle_Age', fontsize=14)\n",
        "plt.ylabel('Percentage (%)', fontsize=14)\n",
        "plt.ylim(0, 100)  # Устанавливаем пределы для оси Y\n",
        "plt.tight_layout()\n",
        "\n",
        "# Показываем график\n",
        "plt.show()"
      ]
    },
    {
      "cell_type": "code",
      "execution_count": 14,
      "id": "b9cf8980",
      "metadata": {},
      "outputs": [
        {
          "data": {
            "image/png": "[encoded data removed]",
            "text/plain": [
              "<Figure size 1400x500 with 2 Axes>"
            ]
          },
          "metadata": {},
          "output_type": "display_data"
        }
      ],
      "source": [
        "# Разделяем данные по значению Response\n",
        "df_0 = df[df['Response'] == 0]\n",
        "df_1 = df[df['Response'] == 1]\n",
        "\n",
        "# Функция для расчета процентного распределения пола\n",
        "def Vehicle_Age_distribution(df):\n",
        "    Vehicle_Age_counts = df['Vehicle_Age'].value_counts(normalize=True) * 100\n",
        "    Vehicle_Age_df = Vehicle_Age_counts.reset_index()\n",
        "    Vehicle_Age_df.columns = ['Vehicle_Age', 'Percentage']\n",
        "    return Vehicle_Age_df\n",
        "\n",
        "# Получаем данные\n",
        "Vehicle_Age_df_0 = Vehicle_Age_distribution(df_0)\n",
        "Vehicle_Age_df_1 = Vehicle_Age_distribution(df_1)\n",
        "\n",
        "# Создаем фигуру и оси\n",
        "fig, axes = plt.subplots(1, 2, figsize=(14, 5))\n",
        "\n",
        "# График для Response = 0\n",
        "sns.barplot(x='Vehicle_Age', y='Percentage', data=Vehicle_Age_df_0, hue='Vehicle_Age', palette='pastel', legend=False, ax=axes[0])\n",
        "axes[0].set_title('Распределение возраста ТС (Response = 0)', fontsize=14, pad=20)\n",
        "axes[0].set_xlabel('Возраст ТС', fontsize=12)\n",
        "axes[0].set_ylabel('Процент (%)', fontsize=12)\n",
        "axes[0].set_ylim(0, 100)\n",
        "\n",
        "# Добавляем подписи\n",
        "for index, row in Vehicle_Age_df_0.iterrows():\n",
        "    axes[0].text(index, row['Percentage'] + 1, f\"{row['Percentage']:.1f}%\",\n",
        "                 ha='center', fontsize=12, color='black')\n",
        "\n",
        "# График для Response = 1\n",
        "sns.barplot(x='Vehicle_Age', y='Percentage', data=Vehicle_Age_df_1, hue='Vehicle_Age', palette='pastel', legend=False, ax=axes[1])\n",
        "axes[1].set_title('Распределение возраста ТС (Response = 1)', fontsize=14, pad=20)\n",
        "axes[1].set_xlabel('Возраст ТС', fontsize=12)\n",
        "axes[1].set_ylabel('Процент (%)', fontsize=12)\n",
        "axes[1].set_ylim(0, 100)\n",
        "\n",
        "# Добавляем подписи\n",
        "for index, row in Vehicle_Age_df_1.iterrows():\n",
        "    axes[1].text(index, row['Percentage'] + 1, f\"{row['Percentage']:.1f}%\",\n",
        "                 ha='center', fontsize=12, color='black')\n",
        "\n",
        "plt.tight_layout()\n",
        "plt.show()"
      ]
    },
    {
      "cell_type": "code",
      "execution_count": 15,
      "id": "d39eec66",
      "metadata": {},
      "outputs": [
        {
          "data": {
            "application/vnd.plotly.v1+json": {
              "config": {
                "plotlyServerURL": "https://plot.ly"
              },
              "data": [
                {
                  "colorscale": [
                    [
                      0,
                      "#440154"
                    ],
                    [
                      0.1111111111111111,
                      "#482878"
                    ],
                    [
                      0.2222222222222222,
                      "#3e4989"
                    ],
                    [
                      0.3333333333333333,
                      "#31688e"
                    ],
                    [
                      0.4444444444444444,
                      "#26828e"
                    ],
                    [
                      0.5555555555555556,
                      "#1f9e89"
                    ],
                    [
                      0.6666666666666666,
                      "#35b779"
                    ],
                    [
                      0.7777777777777778,
                      "#6ece58"
                    ],
                    [
                      0.8888888888888888,
                      "#b5de2b"
                    ],
                    [
                      1,
                      "#fde725"
                    ]
                  ],
                  "reversescale": false,
                  "showscale": true,
                  "type": "heatmap",
                  "x": [
                    "Response",
                    "Vehicle_Age_1-2 Year",
                    "Vehicle_Age_< 1 Year",
                    "Vehicle_Age_> 2 Years"
                  ],
                  "y": [
                    "Response",
                    "Vehicle_Age_1-2 Year",
                    "Vehicle_Age_< 1 Year",
                    "Vehicle_Age_> 2 Years"
                  ],
                  "z": {
                    "bdata": "AAAAAAAA8D9tAK4xWjPGP9XGEJYBGcy/TcO46OiRvD9tAK4xWjPGPwAAAAAAAPA/i4k+tUFu7b9mYJxTC73Lv9XGEJYBGcy/i4k+tUFu7b8AAAAAAADwP64Ulk0ijMe/TcO46OiRvD9mYJxTC73Lv64Ulk0ijMe/AAAAAAAA8D8=",
                    "dtype": "f8",
                    "shape": "4, 4"
                  }
                }
              ],
              "layout": {
                "annotations": [
                  {
                    "font": {
                      "color": "#000000"
                    },
                    "showarrow": false,
                    "text": "1.0",
                    "x": "Response",
                    "xref": "x",
                    "y": "Response",
                    "yref": "y"
                  },
                  {
                    "font": {
                      "color": "#000000"
                    },
                    "showarrow": false,
                    "text": "0.17",
                    "x": "Vehicle_Age_1-2 Year",
                    "xref": "x",
                    "y": "Response",
                    "yref": "y"
                  },
                  {
                    "font": {
                      "color": "#FFFFFF"
                    },
                    "showarrow": false,
                    "text": "-0.22",
                    "x": "Vehicle_Age_< 1 Year",
                    "xref": "x",
                    "y": "Response",
                    "yref": "y"
                  },
                  {
                    "font": {
                      "color": "#000000"
                    },
                    "showarrow": false,
                    "text": "0.11",
                    "x": "Vehicle_Age_> 2 Years",
                    "xref": "x",
                    "y": "Response",
                    "yref": "y"
                  },
                  {
                    "font": {
                      "color": "#000000"
                    },
                    "showarrow": false,
                    "text": "0.17",
                    "x": "Response",
                    "xref": "x",
                    "y": "Vehicle_Age_1-2 Year",
                    "yref": "y"
                  },
                  {
                    "font": {
                      "color": "#000000"
                    },
                    "showarrow": false,
                    "text": "1.0",
                    "x": "Vehicle_Age_1-2 Year",
                    "xref": "x",
                    "y": "Vehicle_Age_1-2 Year",
                    "yref": "y"
                  },
                  {
                    "font": {
                      "color": "#FFFFFF"
                    },
                    "showarrow": false,
                    "text": "-0.92",
                    "x": "Vehicle_Age_< 1 Year",
                    "xref": "x",
                    "y": "Vehicle_Age_1-2 Year",
                    "yref": "y"
                  },
                  {
                    "font": {
                      "color": "#FFFFFF"
                    },
                    "showarrow": false,
                    "text": "-0.22",
                    "x": "Vehicle_Age_> 2 Years",
                    "xref": "x",
                    "y": "Vehicle_Age_1-2 Year",
                    "yref": "y"
                  },
                  {
                    "font": {
                      "color": "#FFFFFF"
                    },
                    "showarrow": false,
                    "text": "-0.22",
                    "x": "Response",
                    "xref": "x",
                    "y": "Vehicle_Age_< 1 Year",
                    "yref": "y"
                  },
                  {
                    "font": {
                      "color": "#FFFFFF"
                    },
                    "showarrow": false,
                    "text": "-0.92",
                    "x": "Vehicle_Age_1-2 Year",
                    "xref": "x",
                    "y": "Vehicle_Age_< 1 Year",
                    "yref": "y"
                  },
                  {
                    "font": {
                      "color": "#000000"
                    },
                    "showarrow": false,
                    "text": "1.0",
                    "x": "Vehicle_Age_< 1 Year",
                    "xref": "x",
                    "y": "Vehicle_Age_< 1 Year",
                    "yref": "y"
                  },
                  {
                    "font": {
                      "color": "#FFFFFF"
                    },
                    "showarrow": false,
                    "text": "-0.18",
                    "x": "Vehicle_Age_> 2 Years",
                    "xref": "x",
                    "y": "Vehicle_Age_< 1 Year",
                    "yref": "y"
                  },
                  {
                    "font": {
                      "color": "#000000"
                    },
                    "showarrow": false,
                    "text": "0.11",
                    "x": "Response",
                    "xref": "x",
                    "y": "Vehicle_Age_> 2 Years",
                    "yref": "y"
                  },
                  {
                    "font": {
                      "color": "#FFFFFF"
                    },
                    "showarrow": false,
                    "text": "-0.22",
                    "x": "Vehicle_Age_1-2 Year",
                    "xref": "x",
                    "y": "Vehicle_Age_> 2 Years",
                    "yref": "y"
                  },
                  {
                    "font": {
                      "color": "#FFFFFF"
                    },
                    "showarrow": false,
                    "text": "-0.18",
                    "x": "Vehicle_Age_< 1 Year",
                    "xref": "x",
                    "y": "Vehicle_Age_> 2 Years",
                    "yref": "y"
                  },
                  {
                    "font": {
                      "color": "#000000"
                    },
                    "showarrow": false,
                    "text": "1.0",
                    "x": "Vehicle_Age_> 2 Years",
                    "xref": "x",
                    "y": "Vehicle_Age_> 2 Years",
                    "yref": "y"
                  }
                ],
                "template": {
                  "data": {
                    "bar": [
                      {
                        "error_x": {
                          "color": "#2a3f5f"
                        },
                        "error_y": {
                          "color": "#2a3f5f"
                        },
                        "marker": {
                          "line": {
                            "color": "#E5ECF6",
                            "width": 0.5
                          },
                          "pattern": {
                            "fillmode": "overlay",
                            "size": 10,
                            "solidity": 0.2
                          }
                        },
                        "type": "bar"
                      }
                    ],
                    "barpolar": [
                      {
                        "marker": {
                          "line": {
                            "color": "#E5ECF6",
                            "width": 0.5
                          },
                          "pattern": {
                            "fillmode": "overlay",
                            "size": 10,
                            "solidity": 0.2
                          }
                        },
                        "type": "barpolar"
                      }
                    ],
                    "carpet": [
                      {
                        "aaxis": {
                          "endlinecolor": "#2a3f5f",
                          "gridcolor": "white",
                          "linecolor": "white",
                          "minorgridcolor": "white",
                          "startlinecolor": "#2a3f5f"
                        },
                        "baxis": {
                          "endlinecolor": "#2a3f5f",
                          "gridcolor": "white",
                          "linecolor": "white",
                          "minorgridcolor": "white",
                          "startlinecolor": "#2a3f5f"
                        },
                        "type": "carpet"
                      }
                    ],
                    "choropleth": [
                      {
                        "colorbar": {
                          "outlinewidth": 0,
                          "ticks": ""
                        },
                        "type": "choropleth"
                      }
                    ],
                    "contour": [
                      {
                        "colorbar": {
                          "outlinewidth": 0,
                          "ticks": ""
                        },
                        "colorscale": [
                          [
                            0,
                            "#0d0887"
                          ],
                          [
                            0.1111111111111111,
                            "#46039f"
                          ],
                          [
                            0.2222222222222222,
                            "#7201a8"
                          ],
                          [
                            0.3333333333333333,
                            "#9c179e"
                          ],
                          [
                            0.4444444444444444,
                            "#bd3786"
                          ],
                          [
                            0.5555555555555556,
                            "#d8576b"
                          ],
                          [
                            0.6666666666666666,
                            "#ed7953"
                          ],
                          [
                            0.7777777777777778,
                            "#fb9f3a"
                          ],
                          [
                            0.8888888888888888,
                            "#fdca26"
                          ],
                          [
                            1,
                            "#f0f921"
                          ]
                        ],
                        "type": "contour"
                      }
                    ],
                    "contourcarpet": [
                      {
                        "colorbar": {
                          "outlinewidth": 0,
                          "ticks": ""
                        },
                        "type": "contourcarpet"
                      }
                    ],
                    "heatmap": [
                      {
                        "colorbar": {
                          "outlinewidth": 0,
                          "ticks": ""
                        },
                        "colorscale": [
                          [
                            0,
                            "#0d0887"
                          ],
                          [
                            0.1111111111111111,
                            "#46039f"
                          ],
                          [
                            0.2222222222222222,
                            "#7201a8"
                          ],
                          [
                            0.3333333333333333,
                            "#9c179e"
                          ],
                          [
                            0.4444444444444444,
                            "#bd3786"
                          ],
                          [
                            0.5555555555555556,
                            "#d8576b"
                          ],
                          [
                            0.6666666666666666,
                            "#ed7953"
                          ],
                          [
                            0.7777777777777778,
                            "#fb9f3a"
                          ],
                          [
                            0.8888888888888888,
                            "#fdca26"
                          ],
                          [
                            1,
                            "#f0f921"
                          ]
                        ],
                        "type": "heatmap"
                      }
                    ],
                    "histogram": [
                      {
                        "marker": {
                          "pattern": {
                            "fillmode": "overlay",
                            "size": 10,
                            "solidity": 0.2
                          }
                        },
                        "type": "histogram"
                      }
                    ],
                    "histogram2d": [
                      {
                        "colorbar": {
                          "outlinewidth": 0,
                          "ticks": ""
                        },
                        "colorscale": [
                          [
                            0,
                            "#0d0887"
                          ],
                          [
                            0.1111111111111111,
                            "#46039f"
                          ],
                          [
                            0.2222222222222222,
                            "#7201a8"
                          ],
                          [
                            0.3333333333333333,
                            "#9c179e"
                          ],
                          [
                            0.4444444444444444,
                            "#bd3786"
                          ],
                          [
                            0.5555555555555556,
                            "#d8576b"
                          ],
                          [
                            0.6666666666666666,
                            "#ed7953"
                          ],
                          [
                            0.7777777777777778,
                            "#fb9f3a"
                          ],
                          [
                            0.8888888888888888,
                            "#fdca26"
                          ],
                          [
                            1,
                            "#f0f921"
                          ]
                        ],
                        "type": "histogram2d"
                      }
                    ],
                    "histogram2dcontour": [
                      {
                        "colorbar": {
                          "outlinewidth": 0,
                          "ticks": ""
                        },
                        "colorscale": [
                          [
                            0,
                            "#0d0887"
                          ],
                          [
                            0.1111111111111111,
                            "#46039f"
                          ],
                          [
                            0.2222222222222222,
                            "#7201a8"
                          ],
                          [
                            0.3333333333333333,
                            "#9c179e"
                          ],
                          [
                            0.4444444444444444,
                            "#bd3786"
                          ],
                          [
                            0.5555555555555556,
                            "#d8576b"
                          ],
                          [
                            0.6666666666666666,
                            "#ed7953"
                          ],
                          [
                            0.7777777777777778,
                            "#fb9f3a"
                          ],
                          [
                            0.8888888888888888,
                            "#fdca26"
                          ],
                          [
                            1,
                            "#f0f921"
                          ]
                        ],
                        "type": "histogram2dcontour"
                      }
                    ],
                    "mesh3d": [
                      {
                        "colorbar": {
                          "outlinewidth": 0,
                          "ticks": ""
                        },
                        "type": "mesh3d"
                      }
                    ],
                    "parcoords": [
                      {
                        "line": {
                          "colorbar": {
                            "outlinewidth": 0,
                            "ticks": ""
                          }
                        },
                        "type": "parcoords"
                      }
                    ],
                    "pie": [
                      {
                        "automargin": true,
                        "type": "pie"
                      }
                    ],
                    "scatter": [
                      {
                        "fillpattern": {
                          "fillmode": "overlay",
                          "size": 10,
                          "solidity": 0.2
                        },
                        "type": "scatter"
                      }
                    ],
                    "scatter3d": [
                      {
                        "line": {
                          "colorbar": {
                            "outlinewidth": 0,
                            "ticks": ""
                          }
                        },
                        "marker": {
                          "colorbar": {
                            "outlinewidth": 0,
                            "ticks": ""
                          }
                        },
                        "type": "scatter3d"
                      }
                    ],
                    "scattercarpet": [
                      {
                        "marker": {
                          "colorbar": {
                            "outlinewidth": 0,
                            "ticks": ""
                          }
                        },
                        "type": "scattercarpet"
                      }
                    ],
                    "scattergeo": [
                      {
                        "marker": {
                          "colorbar": {
                            "outlinewidth": 0,
                            "ticks": ""
                          }
                        },
                        "type": "scattergeo"
                      }
                    ],
                    "scattergl": [
                      {
                        "marker": {
                          "colorbar": {
                            "outlinewidth": 0,
                            "ticks": ""
                          }
                        },
                        "type": "scattergl"
                      }
                    ],
                    "scattermap": [
                      {
                        "marker": {
                          "colorbar": {
                            "outlinewidth": 0,
                            "ticks": ""
                          }
                        },
                        "type": "scattermap"
                      }
                    ],
                    "scattermapbox": [
                      {
                        "marker": {
                          "colorbar": {
                            "outlinewidth": 0,
                            "ticks": ""
                          }
                        },
                        "type": "scattermapbox"
                      }
                    ],
                    "scatterpolar": [
                      {
                        "marker": {
                          "colorbar": {
                            "outlinewidth": 0,
                            "ticks": ""
                          }
                        },
                        "type": "scatterpolar"
                      }
                    ],
                    "scatterpolargl": [
                      {
                        "marker": {
                          "colorbar": {
                            "outlinewidth": 0,
                            "ticks": ""
                          }
                        },
                        "type": "scatterpolargl"
                      }
                    ],
                    "scatterternary": [
                      {
                        "marker": {
                          "colorbar": {
                            "outlinewidth": 0,
                            "ticks": ""
                          }
                        },
                        "type": "scatterternary"
                      }
                    ],
                    "surface": [
                      {
                        "colorbar": {
                          "outlinewidth": 0,
                          "ticks": ""
                        },
                        "colorscale": [
                          [
                            0,
                            "#0d0887"
                          ],
                          [
                            0.1111111111111111,
                            "#46039f"
                          ],
                          [
                            0.2222222222222222,
                            "#7201a8"
                          ],
                          [
                            0.3333333333333333,
                            "#9c179e"
                          ],
                          [
                            0.4444444444444444,
                            "#bd3786"
                          ],
                          [
                            0.5555555555555556,
                            "#d8576b"
                          ],
                          [
                            0.6666666666666666,
                            "#ed7953"
                          ],
                          [
                            0.7777777777777778,
                            "#fb9f3a"
                          ],
                          [
                            0.8888888888888888,
                            "#fdca26"
                          ],
                          [
                            1,
                            "#f0f921"
                          ]
                        ],
                        "type": "surface"
                      }
                    ],
                    "table": [
                      {
                        "cells": {
                          "fill": {
                            "color": "#EBF0F8"
                          },
                          "line": {
                            "color": "white"
                          }
                        },
                        "header": {
                          "fill": {
                            "color": "#C8D4E3"
                          },
                          "line": {
                            "color": "white"
                          }
                        },
                        "type": "table"
                      }
                    ]
                  },
                  "layout": {
                    "annotationdefaults": {
                      "arrowcolor": "#2a3f5f",
                      "arrowhead": 0,
                      "arrowwidth": 1
                    },
                    "autotypenumbers": "strict",
                    "coloraxis": {
                      "colorbar": {
                        "outlinewidth": 0,
                        "ticks": ""
                      }
                    },
                    "colorscale": {
                      "diverging": [
                        [
                          0,
                          "#8e0152"
                        ],
                        [
                          0.1,
                          "#c51b7d"
                        ],
                        [
                          0.2,
                          "#de77ae"
                        ],
                        [
                          0.3,
                          "#f1b6da"
                        ],
                        [
                          0.4,
                          "#fde0ef"
                        ],
                        [
                          0.5,
                          "#f7f7f7"
                        ],
                        [
                          0.6,
                          "#e6f5d0"
                        ],
                        [
                          0.7,
                          "#b8e186"
                        ],
                        [
                          0.8,
                          "#7fbc41"
                        ],
                        [
                          0.9,
                          "#4d9221"
                        ],
                        [
                          1,
                          "#276419"
                        ]
                      ],
                      "sequential": [
                        [
                          0,
                          "#0d0887"
                        ],
                        [
                          0.1111111111111111,
                          "#46039f"
                        ],
                        [
                          0.2222222222222222,
                          "#7201a8"
                        ],
                        [
                          0.3333333333333333,
                          "#9c179e"
                        ],
                        [
                          0.4444444444444444,
                          "#bd3786"
                        ],
                        [
                          0.5555555555555556,
                          "#d8576b"
                        ],
                        [
                          0.6666666666666666,
                          "#ed7953"
                        ],
                        [
                          0.7777777777777778,
                          "#fb9f3a"
                        ],
                        [
                          0.8888888888888888,
                          "#fdca26"
                        ],
                        [
                          1,
                          "#f0f921"
                        ]
                      ],
                      "sequentialminus": [
                        [
                          0,
                          "#0d0887"
                        ],
                        [
                          0.1111111111111111,
                          "#46039f"
                        ],
                        [
                          0.2222222222222222,
                          "#7201a8"
                        ],
                        [
                          0.3333333333333333,
                          "#9c179e"
                        ],
                        [
                          0.4444444444444444,
                          "#bd3786"
                        ],
                        [
                          0.5555555555555556,
                          "#d8576b"
                        ],
                        [
                          0.6666666666666666,
                          "#ed7953"
                        ],
                        [
                          0.7777777777777778,
                          "#fb9f3a"
                        ],
                        [
                          0.8888888888888888,
                          "#fdca26"
                        ],
                        [
                          1,
                          "#f0f921"
                        ]
                      ]
                    },
                    "colorway": [
                      "#636efa",
                      "#EF553B",
                      "#00cc96",
                      "#ab63fa",
                      "#FFA15A",
                      "#19d3f3",
                      "#FF6692",
                      "#B6E880",
                      "#FF97FF",
                      "#FECB52"
                    ],
                    "font": {
                      "color": "#2a3f5f"
                    },
                    "geo": {
                      "bgcolor": "white",
                      "lakecolor": "white",
                      "landcolor": "#E5ECF6",
                      "showlakes": true,
                      "showland": true,
                      "subunitcolor": "white"
                    },
                    "hoverlabel": {
                      "align": "left"
                    },
                    "hovermode": "closest",
                    "mapbox": {
                      "style": "light"
                    },
                    "paper_bgcolor": "white",
                    "plot_bgcolor": "#E5ECF6",
                    "polar": {
                      "angularaxis": {
                        "gridcolor": "white",
                        "linecolor": "white",
                        "ticks": ""
                      },
                      "bgcolor": "#E5ECF6",
                      "radialaxis": {
                        "gridcolor": "white",
                        "linecolor": "white",
                        "ticks": ""
                      }
                    },
                    "scene": {
                      "xaxis": {
                        "backgroundcolor": "#E5ECF6",
                        "gridcolor": "white",
                        "gridwidth": 2,
                        "linecolor": "white",
                        "showbackground": true,
                        "ticks": "",
                        "zerolinecolor": "white"
                      },
                      "yaxis": {
                        "backgroundcolor": "#E5ECF6",
                        "gridcolor": "white",
                        "gridwidth": 2,
                        "linecolor": "white",
                        "showbackground": true,
                        "ticks": "",
                        "zerolinecolor": "white"
                      },
                      "zaxis": {
                        "backgroundcolor": "#E5ECF6",
                        "gridcolor": "white",
                        "gridwidth": 2,
                        "linecolor": "white",
                        "showbackground": true,
                        "ticks": "",
                        "zerolinecolor": "white"
                      }
                    },
                    "shapedefaults": {
                      "line": {
                        "color": "#2a3f5f"
                      }
                    },
                    "ternary": {
                      "aaxis": {
                        "gridcolor": "white",
                        "linecolor": "white",
                        "ticks": ""
                      },
                      "baxis": {
                        "gridcolor": "white",
                        "linecolor": "white",
                        "ticks": ""
                      },
                      "bgcolor": "#E5ECF6",
                      "caxis": {
                        "gridcolor": "white",
                        "linecolor": "white",
                        "ticks": ""
                      }
                    },
                    "title": {
                      "x": 0.05
                    },
                    "xaxis": {
                      "automargin": true,
                      "gridcolor": "white",
                      "linecolor": "white",
                      "ticks": "",
                      "title": {
                        "standoff": 15
                      },
                      "zerolinecolor": "white",
                      "zerolinewidth": 2
                    },
                    "yaxis": {
                      "automargin": true,
                      "gridcolor": "white",
                      "linecolor": "white",
                      "ticks": "",
                      "title": {
                        "standoff": 15
                      },
                      "zerolinecolor": "white",
                      "zerolinewidth": 2
                    }
                  }
                },
                "xaxis": {
                  "dtick": 1,
                  "gridcolor": "rgb(0, 0, 0)",
                  "side": "top",
                  "ticks": ""
                },
                "yaxis": {
                  "dtick": 1,
                  "ticks": "",
                  "ticksuffix": "  "
                }
              }
            }
          },
          "metadata": {},
          "output_type": "display_data"
        }
      ],
      "source": [
        "# Вычисляем корреляцию\n",
        "vehicle_age_df = df[['Vehicle_Age', 'Response']].copy()\n",
        "vehicle_age_df = pd.get_dummies(vehicle_age_df, columns=['Vehicle_Age'])\n",
        "corr_matrix_vehicle_age = vehicle_age_df.corr()\n",
        "# Создаем тепловую карту (heatmap)\n",
        "fig = ff.create_annotated_heatmap(\n",
        "    z=corr_matrix_vehicle_age.values,\n",
        "    x=list(corr_matrix_vehicle_age.columns),\n",
        "    y=list(corr_matrix_vehicle_age.index),\n",
        "    colorscale='Viridis',  # Цветовая схема\n",
        "    annotation_text=corr_matrix_vehicle_age.round(2).values,  # Округляем до 2 знаков\n",
        "    showscale=True\n",
        ")\n",
        "# Отображаем график\n",
        "fig.show()"
      ]
    },
    {
      "cell_type": "markdown",
      "id": "5ed866df",
      "metadata": {},
      "source": [
        "Так как данных об автомобилях с возрастом более 2 лет мало, то объединим эти данные с автомобилями возраста 1-2 года. Затем заменим значения признака на 0 и 1"
      ]
    },
    {
      "cell_type": "markdown",
      "id": "72c5f3a7",
      "metadata": {},
      "source": [
        "# Vehicle_Damage"
      ]
    },
    {
      "cell_type": "code",
      "execution_count": 16,
      "id": "5a9f0784",
      "metadata": {},
      "outputs": [
        {
          "data": {
            "image/png": "[encoded data removed]",
            "text/plain": [
              "<Figure size 700x500 with 1 Axes>"
            ]
          },
          "metadata": {},
          "output_type": "display_data"
        }
      ],
      "source": [
        "Driving_License_counts = df['Vehicle_Damage'].value_counts(normalize=True) * 100\n",
        "\n",
        "# Преобразуем Series в DataFrame для удобства\n",
        "Driving_License_df = Driving_License_counts.reset_index()\n",
        "Driving_License_df.columns = ['Vehicle_Damage', 'Percentage']\n",
        "Driving_License_df = Driving_License_df.sort_values('Vehicle_Damage').reset_index()\n",
        "# Строим график\n",
        "plt.figure(figsize=(7, 5))\n",
        "barplot = sns.barplot(x='Vehicle_Damage', y='Percentage', data=Driving_License_df, hue='Vehicle_Damage', palette='pastel', legend=False)\n",
        "\n",
        "# Добавляем подписи с процентами на каждый столбец\n",
        "for index, row in Driving_License_df.iterrows():\n",
        "    barplot.text(index, row['Percentage'] + 1, f\"{row['Percentage']:.1f}%\",\n",
        "                 ha='center', fontsize=12, color='black')\n",
        "\n",
        "# Настройка графика\n",
        "plt.title('Vehicle_Damage Distribution', fontsize=16, pad=20)\n",
        "plt.xlabel('Vehicle_Damage', fontsize=14)\n",
        "plt.ylabel('Percentage (%)', fontsize=14)\n",
        "plt.ylim(0, 100)  # Устанавливаем пределы для оси Y\n",
        "plt.tight_layout()\n",
        "\n",
        "# Показываем график\n",
        "plt.show()"
      ]
    },
    {
      "cell_type": "code",
      "execution_count": 17,
      "id": "2a35d7c8",
      "metadata": {},
      "outputs": [
        {
          "data": {
            "image/png": "[encoded data removed]",
            "text/plain": [
              "<Figure size 1400x500 with 2 Axes>"
            ]
          },
          "metadata": {},
          "output_type": "display_data"
        }
      ],
      "source": [
        "# Разделяем данные по значению Response\n",
        "df_0 = df[df['Response'] == 0]\n",
        "df_1 = df[df['Response'] == 1]\n",
        "\n",
        "# Функция для расчета процентного распределения пола\n",
        "def Vehicle_Damage_distribution(df):\n",
        "    Vehicle_Damage_counts = df['Vehicle_Damage'].value_counts(normalize=True) * 100\n",
        "    Vehicle_Damage_df = Vehicle_Damage_counts.reset_index()\n",
        "    Vehicle_Damage_df.columns = ['Vehicle_Damage', 'Percentage']\n",
        "    return Vehicle_Damage_df\n",
        "\n",
        "# Получаем данные\n",
        "Vehicle_Damage_df_0 = Vehicle_Damage_distribution(df_0)\n",
        "Vehicle_Damage_df_1 = Vehicle_Damage_distribution(df_1)\n",
        "\n",
        "# Создаем фигуру и оси\n",
        "fig, axes = plt.subplots(1, 2, figsize=(14, 5))\n",
        "\n",
        "# График для Response = 0\n",
        "sns.barplot(x='Vehicle_Damage', y='Percentage', data=Vehicle_Damage_df_0, hue='Vehicle_Damage', palette='pastel', legend=False, ax=axes[0])\n",
        "axes[0].set_title('Распределение наличия поломок ТС (Response = 0)', fontsize=14, pad=30)\n",
        "axes[0].set_xlabel('Была ли поломка ТС', fontsize=12)\n",
        "axes[0].set_ylabel('Процент (%)', fontsize=12)\n",
        "axes[0].set_ylim(0, 100)\n",
        "\n",
        "# Добавляем подписи\n",
        "for index, row in Vehicle_Damage_df_0.iterrows():\n",
        "    axes[0].text(index, row['Percentage'] + 1, f\"{row['Percentage']:.1f}%\",\n",
        "                 ha='center', fontsize=12, color='black')\n",
        "\n",
        "# График для Response = 1\n",
        "sns.barplot(x='Vehicle_Damage', y='Percentage', data=Vehicle_Damage_df_1, hue='Vehicle_Damage', palette='pastel', legend=False, ax=axes[1])\n",
        "axes[1].set_title('Распределение наличия поломок ТС (Response = 1)', fontsize=14, pad=30)\n",
        "axes[1].set_xlabel('Была ли поломка ТС', fontsize=12)\n",
        "axes[1].set_ylabel('Процент (%)', fontsize=12)\n",
        "axes[1].set_ylim(0, 100)\n",
        "\n",
        "# Добавляем подписи\n",
        "for index, row in Vehicle_Damage_df_1.iterrows():\n",
        "    axes[1].text(index, row['Percentage'] + 1, f\"{row['Percentage']:.1f}%\",\n",
        "                 ha='center', fontsize=12, color='black')\n",
        "\n",
        "plt.tight_layout()\n",
        "plt.show()"
      ]
    },
    {
      "cell_type": "markdown",
      "id": "5f48f2bf",
      "metadata": {},
      "source": [
        "Различия в распределении признака говорит о его полезности"
      ]
    },
    {
      "cell_type": "markdown",
      "id": "b26ea1ac",
      "metadata": {},
      "source": [
        "# Annual_Premium"
      ]
    },
    {
      "cell_type": "code",
      "execution_count": 18,
      "id": "bc5ef94d",
      "metadata": {},
      "outputs": [
        {
          "data": {
            "image/png": "[encoded data removed]",
            "text/plain": [
              "<Figure size 800x500 with 1 Axes>"
            ]
          },
          "metadata": {},
          "output_type": "display_data"
        }
      ],
      "source": [
        "plt.figure(figsize=(8, 5))\n",
        "sns.histplot(df['Annual_Premium'], kde=True, bins=20, color='blue', stat=\"percent\")\n",
        "plt.title('Распределение стоимости страховки', fontsize=14)\n",
        "plt.xlabel('Стоимость страховки', fontsize=12)\n",
        "plt.ylabel('Процент (%)', fontsize=12)\n",
        "plt.show()"
      ]
    },
    {
      "cell_type": "code",
      "execution_count": 19,
      "id": "6494bf66",
      "metadata": {},
      "outputs": [
        {
          "name": "stderr",
          "output_type": "stream",
          "text": [
            "C:\\Users\\nosow\\AppData\\Local\\Temp\\ipykernel_4072\\1278261858.py:4: UserWarning:\n",
            "\n",
            "Boolean Series key will be reindexed to match DataFrame index.\n",
            "\n",
            "C:\\Users\\nosow\\AppData\\Local\\Temp\\ipykernel_4072\\1278261858.py:5: UserWarning:\n",
            "\n",
            "Boolean Series key will be reindexed to match DataFrame index.\n",
            "\n"
          ]
        },
        {
          "data": {
            "image/png": "[encoded data removed]",
            "text/plain": [
              "<Figure size 1400x500 with 2 Axes>"
            ]
          },
          "metadata": {},
          "output_type": "display_data"
        }
      ],
      "source": [
        "# Разделяем данные по значению Response\n",
        "df_0 = df[df['Response'] == 0]\n",
        "df_1 = df[df['Response'] == 1]\n",
        "# Создаем фигуру и оси\n",
        "fig, axes = plt.subplots(1, 2, figsize=(14, 5))\n",
        "\n",
        "# Гистограмма возраста для Response = 0\n",
        "sns.histplot(df_0['Annual_Premium'], kde=True, bins=30, color='blue', stat=\"percent\", ax=axes[0])\n",
        "axes[0].set_title('Распределение возраста (Response = 0)', fontsize=14)\n",
        "axes[0].set_xlabel('Возраст', fontsize=12)\n",
        "axes[0].set_ylabel('Процент (%)', fontsize=12)\n",
        "\n",
        "# Гистограмма возраста для Response = 1\n",
        "sns.histplot(df_1['Annual_Premium'], kde=True, bins=30, color='red', stat=\"percent\", ax=axes[1])\n",
        "axes[1].set_title('Распределение возраста (Response = 1)', fontsize=14)\n",
        "axes[1].set_xlabel('Возраст', fontsize=12)\n",
        "axes[1].set_ylabel('', fontsize=1)\n",
        "\n",
        "plt.tight_layout()\n",
        "plt.show()"
      ]
    },
    {
      "cell_type": "markdown",
      "id": "264f2252",
      "metadata": {},
      "source": [
        "# Vintage"
      ]
    },
    {
      "cell_type": "code",
      "execution_count": 20,
      "id": "c4816628",
      "metadata": {},
      "outputs": [
        {
          "data": {
            "image/png": "[encoded data removed]",
            "text/plain": [
              "<Figure size 800x500 with 1 Axes>"
            ]
          },
          "metadata": {},
          "output_type": "display_data"
        }
      ],
      "source": [
        "plt.figure(figsize=(8, 5))\n",
        "sns.histplot(df['Vintage'], kde=True, bins=20, color='blue', stat=\"percent\")\n",
        "plt.title('Распределение количества дней', fontsize=14)\n",
        "plt.xlabel('Дни', fontsize=12)\n",
        "plt.ylabel('Процент (%)', fontsize=12)\n",
        "plt.show()"
      ]
    },
    {
      "cell_type": "code",
      "execution_count": 21,
      "id": "2dee4646",
      "metadata": {},
      "outputs": [
        {
          "data": {
            "image/png": "[encoded data removed]",
            "text/plain": [
              "<Figure size 1400x500 with 2 Axes>"
            ]
          },
          "metadata": {},
          "output_type": "display_data"
        }
      ],
      "source": [
        "# Разделяем данные по значению Response\n",
        "df_0 = df[df['Response'] == 0]\n",
        "df_1 = df[df['Response'] == 1]\n",
        "# Создаем фигуру и оси\n",
        "fig, axes = plt.subplots(1, 2, figsize=(14, 5))\n",
        "\n",
        "# Гистограмма возраста для Response = 0\n",
        "sns.histplot(df_0['Vintage'], kde=True, bins=30, color='blue', stat=\"percent\", ax=axes[0])\n",
        "axes[0].set_title('Распределение количества дней (Response = 0)', fontsize=14)\n",
        "axes[0].set_xlabel('Дни', fontsize=12)\n",
        "axes[0].set_ylabel('Процент (%)', fontsize=12)\n",
        "\n",
        "# Гистограмма возраста для Response = 1\n",
        "sns.histplot(df_1['Vintage'], kde=True, bins=30, color='red', stat=\"percent\", ax=axes[1])\n",
        "axes[1].set_title('Распределение количества дней (Response = 1)', fontsize=14)\n",
        "axes[1].set_xlabel('Дни', fontsize=12)\n",
        "axes[1].set_ylabel('', fontsize=1)\n",
        "\n",
        "plt.tight_layout()\n",
        "plt.show()"
      ]
    },
    {
      "cell_type": "markdown",
      "id": "1e31d4c2",
      "metadata": {},
      "source": [
        "Кажется, что признак не даёт поезой информации."
      ]
    },
    {
      "cell_type": "code",
      "execution_count": 23,
      "id": "3e0dd607",
      "metadata": {},
      "outputs": [
        {
          "data": {
            "application/vnd.plotly.v1+json": {
              "config": {
                "plotlyServerURL": "https://plot.ly"
              },
              "data": [
                {
                  "colorscale": [
                    [
                      0,
                      "#440154"
                    ],
                    [
                      0.1111111111111111,
                      "#482878"
                    ],
                    [
                      0.2222222222222222,
                      "#3e4989"
                    ],
                    [
                      0.3333333333333333,
                      "#31688e"
                    ],
                    [
                      0.4444444444444444,
                      "#26828e"
                    ],
                    [
                      0.5555555555555556,
                      "#1f9e89"
                    ],
                    [
                      0.6666666666666666,
                      "#35b779"
                    ],
                    [
                      0.7777777777777778,
                      "#6ece58"
                    ],
                    [
                      0.8888888888888888,
                      "#b5de2b"
                    ],
                    [
                      1,
                      "#fde725"
                    ]
                  ],
                  "reversescale": false,
                  "showscale": true,
                  "type": "heatmap",
                  "x": [
                    "Gender",
                    "Age",
                    "Previously_Insured",
                    "Vehicle_Age",
                    "Vehicle_Damage",
                    "Annual_Premium",
                    "Response"
                  ],
                  "y": [
                    "Gender",
                    "Age",
                    "Previously_Insured",
                    "Vehicle_Age",
                    "Vehicle_Damage",
                    "Annual_Premium",
                    "Response"
                  ],
                  "z": {
                    "bdata": "AAAAAAAA8D9xTd+9Sy7EPz2L+IHgbba/EFhtJqotxj/NGC/eP9S4P4MPuHiM0IU/Cor/fslErD9xTd+9Sy7EPwAAAAAAAPA/ksVZsgyu0b8EBNMhyK/pP/m93I/PbdI/coWLk9bWrD/ty/kQKES/Pz2L+IHgbba/ksVZsgyu0b8AAAAAAADwP+D5Ex6OHNi/gB6Iu0PC6r/NcvkdTmV/P1CpOOO2I9a/EFhtJqotxj8EBNMhyK/pP+D5Ex6OHNi/AAAAAAAA8D97AgVHfb/YP75v24JbMIQ/D8cQlgEZzD/NGC/eP9S4P/m93I/PbdI/gB6Iu0PC6r97AgVHfb/YPwAAAAAAAPA/nYKG9l8Rij8yi1DxoQbXP4MPuHiM0IU/coWLk9bWrD/NcvkdTmV/P75v24JbMIQ/nYKG9l8Rij8AAAAAAADwPzwztXB4hKA/Cor/fslErD/ty/kQKES/P1CpOOO2I9a/D8cQlgEZzD8yi1DxoQbXPzwztXB4hKA/AAAAAAAA8D8=",
                    "dtype": "f8",
                    "shape": "7, 7"
                  }
                }
              ],
              "layout": {
                "annotations": [
                  {
                    "font": {
                      "color": "#000000"
                    },
                    "showarrow": false,
                    "text": "1.0",
                    "x": "Gender",
                    "xref": "x",
                    "y": "Gender",
                    "yref": "y"
                  },
                  {
                    "font": {
                      "color": "#000000"
                    },
                    "showarrow": false,
                    "text": "0.16",
                    "x": "Age",
                    "xref": "x",
                    "y": "Gender",
                    "yref": "y"
                  },
                  {
                    "font": {
                      "color": "#FFFFFF"
                    },
                    "showarrow": false,
                    "text": "-0.09",
                    "x": "Previously_Insured",
                    "xref": "x",
                    "y": "Gender",
                    "yref": "y"
                  },
                  {
                    "font": {
                      "color": "#000000"
                    },
                    "showarrow": false,
                    "text": "0.17",
                    "x": "Vehicle_Age",
                    "xref": "x",
                    "y": "Gender",
                    "yref": "y"
                  },
                  {
                    "font": {
                      "color": "#000000"
                    },
                    "showarrow": false,
                    "text": "0.1",
                    "x": "Vehicle_Damage",
                    "xref": "x",
                    "y": "Gender",
                    "yref": "y"
                  },
                  {
                    "font": {
                      "color": "#FFFFFF"
                    },
                    "showarrow": false,
                    "text": "0.01",
                    "x": "Annual_Premium",
                    "xref": "x",
                    "y": "Gender",
                    "yref": "y"
                  },
                  {
                    "font": {
                      "color": "#FFFFFF"
                    },
                    "showarrow": false,
                    "text": "0.06",
                    "x": "Response",
                    "xref": "x",
                    "y": "Gender",
                    "yref": "y"
                  },
                  {
                    "font": {
                      "color": "#000000"
                    },
                    "showarrow": false,
                    "text": "0.16",
                    "x": "Gender",
                    "xref": "x",
                    "y": "Age",
                    "yref": "y"
                  },
                  {
                    "font": {
                      "color": "#000000"
                    },
                    "showarrow": false,
                    "text": "1.0",
                    "x": "Age",
                    "xref": "x",
                    "y": "Age",
                    "yref": "y"
                  },
                  {
                    "font": {
                      "color": "#FFFFFF"
                    },
                    "showarrow": false,
                    "text": "-0.28",
                    "x": "Previously_Insured",
                    "xref": "x",
                    "y": "Age",
                    "yref": "y"
                  },
                  {
                    "font": {
                      "color": "#000000"
                    },
                    "showarrow": false,
                    "text": "0.8",
                    "x": "Vehicle_Age",
                    "xref": "x",
                    "y": "Age",
                    "yref": "y"
                  },
                  {
                    "font": {
                      "color": "#000000"
                    },
                    "showarrow": false,
                    "text": "0.29",
                    "x": "Vehicle_Damage",
                    "xref": "x",
                    "y": "Age",
                    "yref": "y"
                  },
                  {
                    "font": {
                      "color": "#FFFFFF"
                    },
                    "showarrow": false,
                    "text": "0.06",
                    "x": "Annual_Premium",
                    "xref": "x",
                    "y": "Age",
                    "yref": "y"
                  },
                  {
                    "font": {
                      "color": "#000000"
                    },
                    "showarrow": false,
                    "text": "0.12",
                    "x": "Response",
                    "xref": "x",
                    "y": "Age",
                    "yref": "y"
                  },
                  {
                    "font": {
                      "color": "#FFFFFF"
                    },
                    "showarrow": false,
                    "text": "-0.09",
                    "x": "Gender",
                    "xref": "x",
                    "y": "Previously_Insured",
                    "yref": "y"
                  },
                  {
                    "font": {
                      "color": "#FFFFFF"
                    },
                    "showarrow": false,
                    "text": "-0.28",
                    "x": "Age",
                    "xref": "x",
                    "y": "Previously_Insured",
                    "yref": "y"
                  },
                  {
                    "font": {
                      "color": "#000000"
                    },
                    "showarrow": false,
                    "text": "1.0",
                    "x": "Previously_Insured",
                    "xref": "x",
                    "y": "Previously_Insured",
                    "yref": "y"
                  },
                  {
                    "font": {
                      "color": "#FFFFFF"
                    },
                    "showarrow": false,
                    "text": "-0.38",
                    "x": "Vehicle_Age",
                    "xref": "x",
                    "y": "Previously_Insured",
                    "yref": "y"
                  },
                  {
                    "font": {
                      "color": "#FFFFFF"
                    },
                    "showarrow": false,
                    "text": "-0.84",
                    "x": "Vehicle_Damage",
                    "xref": "x",
                    "y": "Previously_Insured",
                    "yref": "y"
                  },
                  {
                    "font": {
                      "color": "#FFFFFF"
                    },
                    "showarrow": false,
                    "text": "0.01",
                    "x": "Annual_Premium",
                    "xref": "x",
                    "y": "Previously_Insured",
                    "yref": "y"
                  },
                  {
                    "font": {
                      "color": "#FFFFFF"
                    },
                    "showarrow": false,
                    "text": "-0.35",
                    "x": "Response",
                    "xref": "x",
                    "y": "Previously_Insured",
                    "yref": "y"
                  },
                  {
                    "font": {
                      "color": "#000000"
                    },
                    "showarrow": false,
                    "text": "0.17",
                    "x": "Gender",
                    "xref": "x",
                    "y": "Vehicle_Age",
                    "yref": "y"
                  },
                  {
                    "font": {
                      "color": "#000000"
                    },
                    "showarrow": false,
                    "text": "0.8",
                    "x": "Age",
                    "xref": "x",
                    "y": "Vehicle_Age",
                    "yref": "y"
                  },
                  {
                    "font": {
                      "color": "#FFFFFF"
                    },
                    "showarrow": false,
                    "text": "-0.38",
                    "x": "Previously_Insured",
                    "xref": "x",
                    "y": "Vehicle_Age",
                    "yref": "y"
                  },
                  {
                    "font": {
                      "color": "#000000"
                    },
                    "showarrow": false,
                    "text": "1.0",
                    "x": "Vehicle_Age",
                    "xref": "x",
                    "y": "Vehicle_Age",
                    "yref": "y"
                  },
                  {
                    "font": {
                      "color": "#000000"
                    },
                    "showarrow": false,
                    "text": "0.39",
                    "x": "Vehicle_Damage",
                    "xref": "x",
                    "y": "Vehicle_Age",
                    "yref": "y"
                  },
                  {
                    "font": {
                      "color": "#FFFFFF"
                    },
                    "showarrow": false,
                    "text": "0.01",
                    "x": "Annual_Premium",
                    "xref": "x",
                    "y": "Vehicle_Age",
                    "yref": "y"
                  },
                  {
                    "font": {
                      "color": "#000000"
                    },
                    "showarrow": false,
                    "text": "0.22",
                    "x": "Response",
                    "xref": "x",
                    "y": "Vehicle_Age",
                    "yref": "y"
                  },
                  {
                    "font": {
                      "color": "#000000"
                    },
                    "showarrow": false,
                    "text": "0.1",
                    "x": "Gender",
                    "xref": "x",
                    "y": "Vehicle_Damage",
                    "yref": "y"
                  },
                  {
                    "font": {
                      "color": "#000000"
                    },
                    "showarrow": false,
                    "text": "0.29",
                    "x": "Age",
                    "xref": "x",
                    "y": "Vehicle_Damage",
                    "yref": "y"
                  },
                  {
                    "font": {
                      "color": "#FFFFFF"
                    },
                    "showarrow": false,
                    "text": "-0.84",
                    "x": "Previously_Insured",
                    "xref": "x",
                    "y": "Vehicle_Damage",
                    "yref": "y"
                  },
                  {
                    "font": {
                      "color": "#000000"
                    },
                    "showarrow": false,
                    "text": "0.39",
                    "x": "Vehicle_Age",
                    "xref": "x",
                    "y": "Vehicle_Damage",
                    "yref": "y"
                  },
                  {
                    "font": {
                      "color": "#000000"
                    },
                    "showarrow": false,
                    "text": "1.0",
                    "x": "Vehicle_Damage",
                    "xref": "x",
                    "y": "Vehicle_Damage",
                    "yref": "y"
                  },
                  {
                    "font": {
                      "color": "#FFFFFF"
                    },
                    "showarrow": false,
                    "text": "0.01",
                    "x": "Annual_Premium",
                    "xref": "x",
                    "y": "Vehicle_Damage",
                    "yref": "y"
                  },
                  {
                    "font": {
                      "color": "#000000"
                    },
                    "showarrow": false,
                    "text": "0.36",
                    "x": "Response",
                    "xref": "x",
                    "y": "Vehicle_Damage",
                    "yref": "y"
                  },
                  {
                    "font": {
                      "color": "#FFFFFF"
                    },
                    "showarrow": false,
                    "text": "0.01",
                    "x": "Gender",
                    "xref": "x",
                    "y": "Annual_Premium",
                    "yref": "y"
                  },
                  {
                    "font": {
                      "color": "#FFFFFF"
                    },
                    "showarrow": false,
                    "text": "0.06",
                    "x": "Age",
                    "xref": "x",
                    "y": "Annual_Premium",
                    "yref": "y"
                  },
                  {
                    "font": {
                      "color": "#FFFFFF"
                    },
                    "showarrow": false,
                    "text": "0.01",
                    "x": "Previously_Insured",
                    "xref": "x",
                    "y": "Annual_Premium",
                    "yref": "y"
                  },
                  {
                    "font": {
                      "color": "#FFFFFF"
                    },
                    "showarrow": false,
                    "text": "0.01",
                    "x": "Vehicle_Age",
                    "xref": "x",
                    "y": "Annual_Premium",
                    "yref": "y"
                  },
                  {
                    "font": {
                      "color": "#FFFFFF"
                    },
                    "showarrow": false,
                    "text": "0.01",
                    "x": "Vehicle_Damage",
                    "xref": "x",
                    "y": "Annual_Premium",
                    "yref": "y"
                  },
                  {
                    "font": {
                      "color": "#000000"
                    },
                    "showarrow": false,
                    "text": "1.0",
                    "x": "Annual_Premium",
                    "xref": "x",
                    "y": "Annual_Premium",
                    "yref": "y"
                  },
                  {
                    "font": {
                      "color": "#FFFFFF"
                    },
                    "showarrow": false,
                    "text": "0.03",
                    "x": "Response",
                    "xref": "x",
                    "y": "Annual_Premium",
                    "yref": "y"
                  },
                  {
                    "font": {
                      "color": "#FFFFFF"
                    },
                    "showarrow": false,
                    "text": "0.06",
                    "x": "Gender",
                    "xref": "x",
                    "y": "Response",
                    "yref": "y"
                  },
                  {
                    "font": {
                      "color": "#000000"
                    },
                    "showarrow": false,
                    "text": "0.12",
                    "x": "Age",
                    "xref": "x",
                    "y": "Response",
                    "yref": "y"
                  },
                  {
                    "font": {
                      "color": "#FFFFFF"
                    },
                    "showarrow": false,
                    "text": "-0.35",
                    "x": "Previously_Insured",
                    "xref": "x",
                    "y": "Response",
                    "yref": "y"
                  },
                  {
                    "font": {
                      "color": "#000000"
                    },
                    "showarrow": false,
                    "text": "0.22",
                    "x": "Vehicle_Age",
                    "xref": "x",
                    "y": "Response",
                    "yref": "y"
                  },
                  {
                    "font": {
                      "color": "#000000"
                    },
                    "showarrow": false,
                    "text": "0.36",
                    "x": "Vehicle_Damage",
                    "xref": "x",
                    "y": "Response",
                    "yref": "y"
                  },
                  {
                    "font": {
                      "color": "#FFFFFF"
                    },
                    "showarrow": false,
                    "text": "0.03",
                    "x": "Annual_Premium",
                    "xref": "x",
                    "y": "Response",
                    "yref": "y"
                  },
                  {
                    "font": {
                      "color": "#000000"
                    },
                    "showarrow": false,
                    "text": "1.0",
                    "x": "Response",
                    "xref": "x",
                    "y": "Response",
                    "yref": "y"
                  }
                ],
                "template": {
                  "data": {
                    "bar": [
                      {
                        "error_x": {
                          "color": "#2a3f5f"
                        },
                        "error_y": {
                          "color": "#2a3f5f"
                        },
                        "marker": {
                          "line": {
                            "color": "#E5ECF6",
                            "width": 0.5
                          },
                          "pattern": {
                            "fillmode": "overlay",
                            "size": 10,
                            "solidity": 0.2
                          }
                        },
                        "type": "bar"
                      }
                    ],
                    "barpolar": [
                      {
                        "marker": {
                          "line": {
                            "color": "#E5ECF6",
                            "width": 0.5
                          },
                          "pattern": {
                            "fillmode": "overlay",
                            "size": 10,
                            "solidity": 0.2
                          }
                        },
                        "type": "barpolar"
                      }
                    ],
                    "carpet": [
                      {
                        "aaxis": {
                          "endlinecolor": "#2a3f5f",
                          "gridcolor": "white",
                          "linecolor": "white",
                          "minorgridcolor": "white",
                          "startlinecolor": "#2a3f5f"
                        },
                        "baxis": {
                          "endlinecolor": "#2a3f5f",
                          "gridcolor": "white",
                          "linecolor": "white",
                          "minorgridcolor": "white",
                          "startlinecolor": "#2a3f5f"
                        },
                        "type": "carpet"
                      }
                    ],
                    "choropleth": [
                      {
                        "colorbar": {
                          "outlinewidth": 0,
                          "ticks": ""
                        },
                        "type": "choropleth"
                      }
                    ],
                    "contour": [
                      {
                        "colorbar": {
                          "outlinewidth": 0,
                          "ticks": ""
                        },
                        "colorscale": [
                          [
                            0,
                            "#0d0887"
                          ],
                          [
                            0.1111111111111111,
                            "#46039f"
                          ],
                          [
                            0.2222222222222222,
                            "#7201a8"
                          ],
                          [
                            0.3333333333333333,
                            "#9c179e"
                          ],
                          [
                            0.4444444444444444,
                            "#bd3786"
                          ],
                          [
                            0.5555555555555556,
                            "#d8576b"
                          ],
                          [
                            0.6666666666666666,
                            "#ed7953"
                          ],
                          [
                            0.7777777777777778,
                            "#fb9f3a"
                          ],
                          [
                            0.8888888888888888,
                            "#fdca26"
                          ],
                          [
                            1,
                            "#f0f921"
                          ]
                        ],
                        "type": "contour"
                      }
                    ],
                    "contourcarpet": [
                      {
                        "colorbar": {
                          "outlinewidth": 0,
                          "ticks": ""
                        },
                        "type": "contourcarpet"
                      }
                    ],
                    "heatmap": [
                      {
                        "colorbar": {
                          "outlinewidth": 0,
                          "ticks": ""
                        },
                        "colorscale": [
                          [
                            0,
                            "#0d0887"
                          ],
                          [
                            0.1111111111111111,
                            "#46039f"
                          ],
                          [
                            0.2222222222222222,
                            "#7201a8"
                          ],
                          [
                            0.3333333333333333,
                            "#9c179e"
                          ],
                          [
                            0.4444444444444444,
                            "#bd3786"
                          ],
                          [
                            0.5555555555555556,
                            "#d8576b"
                          ],
                          [
                            0.6666666666666666,
                            "#ed7953"
                          ],
                          [
                            0.7777777777777778,
                            "#fb9f3a"
                          ],
                          [
                            0.8888888888888888,
                            "#fdca26"
                          ],
                          [
                            1,
                            "#f0f921"
                          ]
                        ],
                        "type": "heatmap"
                      }
                    ],
                    "histogram": [
                      {
                        "marker": {
                          "pattern": {
                            "fillmode": "overlay",
                            "size": 10,
                            "solidity": 0.2
                          }
                        },
                        "type": "histogram"
                      }
                    ],
                    "histogram2d": [
                      {
                        "colorbar": {
                          "outlinewidth": 0,
                          "ticks": ""
                        },
                        "colorscale": [
                          [
                            0,
                            "#0d0887"
                          ],
                          [
                            0.1111111111111111,
                            "#46039f"
                          ],
                          [
                            0.2222222222222222,
                            "#7201a8"
                          ],
                          [
                            0.3333333333333333,
                            "#9c179e"
                          ],
                          [
                            0.4444444444444444,
                            "#bd3786"
                          ],
                          [
                            0.5555555555555556,
                            "#d8576b"
                          ],
                          [
                            0.6666666666666666,
                            "#ed7953"
                          ],
                          [
                            0.7777777777777778,
                            "#fb9f3a"
                          ],
                          [
                            0.8888888888888888,
                            "#fdca26"
                          ],
                          [
                            1,
                            "#f0f921"
                          ]
                        ],
                        "type": "histogram2d"
                      }
                    ],
                    "histogram2dcontour": [
                      {
                        "colorbar": {
                          "outlinewidth": 0,
                          "ticks": ""
                        },
                        "colorscale": [
                          [
                            0,
                            "#0d0887"
                          ],
                          [
                            0.1111111111111111,
                            "#46039f"
                          ],
                          [
                            0.2222222222222222,
                            "#7201a8"
                          ],
                          [
                            0.3333333333333333,
                            "#9c179e"
                          ],
                          [
                            0.4444444444444444,
                            "#bd3786"
                          ],
                          [
                            0.5555555555555556,
                            "#d8576b"
                          ],
                          [
                            0.6666666666666666,
                            "#ed7953"
                          ],
                          [
                            0.7777777777777778,
                            "#fb9f3a"
                          ],
                          [
                            0.8888888888888888,
                            "#fdca26"
                          ],
                          [
                            1,
                            "#f0f921"
                          ]
                        ],
                        "type": "histogram2dcontour"
                      }
                    ],
                    "mesh3d": [
                      {
                        "colorbar": {
                          "outlinewidth": 0,
                          "ticks": ""
                        },
                        "type": "mesh3d"
                      }
                    ],
                    "parcoords": [
                      {
                        "line": {
                          "colorbar": {
                            "outlinewidth": 0,
                            "ticks": ""
                          }
                        },
                        "type": "parcoords"
                      }
                    ],
                    "pie": [
                      {
                        "automargin": true,
                        "type": "pie"
                      }
                    ],
                    "scatter": [
                      {
                        "fillpattern": {
                          "fillmode": "overlay",
                          "size": 10,
                          "solidity": 0.2
                        },
                        "type": "scatter"
                      }
                    ],
                    "scatter3d": [
                      {
                        "line": {
                          "colorbar": {
                            "outlinewidth": 0,
                            "ticks": ""
                          }
                        },
                        "marker": {
                          "colorbar": {
                            "outlinewidth": 0,
                            "ticks": ""
                          }
                        },
                        "type": "scatter3d"
                      }
                    ],
                    "scattercarpet": [
                      {
                        "marker": {
                          "colorbar": {
                            "outlinewidth": 0,
                            "ticks": ""
                          }
                        },
                        "type": "scattercarpet"
                      }
                    ],
                    "scattergeo": [
                      {
                        "marker": {
                          "colorbar": {
                            "outlinewidth": 0,
                            "ticks": ""
                          }
                        },
                        "type": "scattergeo"
                      }
                    ],
                    "scattergl": [
                      {
                        "marker": {
                          "colorbar": {
                            "outlinewidth": 0,
                            "ticks": ""
                          }
                        },
                        "type": "scattergl"
                      }
                    ],
                    "scattermap": [
                      {
                        "marker": {
                          "colorbar": {
                            "outlinewidth": 0,
                            "ticks": ""
                          }
                        },
                        "type": "scattermap"
                      }
                    ],
                    "scattermapbox": [
                      {
                        "marker": {
                          "colorbar": {
                            "outlinewidth": 0,
                            "ticks": ""
                          }
                        },
                        "type": "scattermapbox"
                      }
                    ],
                    "scatterpolar": [
                      {
                        "marker": {
                          "colorbar": {
                            "outlinewidth": 0,
                            "ticks": ""
                          }
                        },
                        "type": "scatterpolar"
                      }
                    ],
                    "scatterpolargl": [
                      {
                        "marker": {
                          "colorbar": {
                            "outlinewidth": 0,
                            "ticks": ""
                          }
                        },
                        "type": "scatterpolargl"
                      }
                    ],
                    "scatterternary": [
                      {
                        "marker": {
                          "colorbar": {
                            "outlinewidth": 0,
                            "ticks": ""
                          }
                        },
                        "type": "scatterternary"
                      }
                    ],
                    "surface": [
                      {
                        "colorbar": {
                          "outlinewidth": 0,
                          "ticks": ""
                        },
                        "colorscale": [
                          [
                            0,
                            "#0d0887"
                          ],
                          [
                            0.1111111111111111,
                            "#46039f"
                          ],
                          [
                            0.2222222222222222,
                            "#7201a8"
                          ],
                          [
                            0.3333333333333333,
                            "#9c179e"
                          ],
                          [
                            0.4444444444444444,
                            "#bd3786"
                          ],
                          [
                            0.5555555555555556,
                            "#d8576b"
                          ],
                          [
                            0.6666666666666666,
                            "#ed7953"
                          ],
                          [
                            0.7777777777777778,
                            "#fb9f3a"
                          ],
                          [
                            0.8888888888888888,
                            "#fdca26"
                          ],
                          [
                            1,
                            "#f0f921"
                          ]
                        ],
                        "type": "surface"
                      }
                    ],
                    "table": [
                      {
                        "cells": {
                          "fill": {
                            "color": "#EBF0F8"
                          },
                          "line": {
                            "color": "white"
                          }
                        },
                        "header": {
                          "fill": {
                            "color": "#C8D4E3"
                          },
                          "line": {
                            "color": "white"
                          }
                        },
                        "type": "table"
                      }
                    ]
                  },
                  "layout": {
                    "annotationdefaults": {
                      "arrowcolor": "#2a3f5f",
                      "arrowhead": 0,
                      "arrowwidth": 1
                    },
                    "autotypenumbers": "strict",
                    "coloraxis": {
                      "colorbar": {
                        "outlinewidth": 0,
                        "ticks": ""
                      }
                    },
                    "colorscale": {
                      "diverging": [
                        [
                          0,
                          "#8e0152"
                        ],
                        [
                          0.1,
                          "#c51b7d"
                        ],
                        [
                          0.2,
                          "#de77ae"
                        ],
                        [
                          0.3,
                          "#f1b6da"
                        ],
                        [
                          0.4,
                          "#fde0ef"
                        ],
                        [
                          0.5,
                          "#f7f7f7"
                        ],
                        [
                          0.6,
                          "#e6f5d0"
                        ],
                        [
                          0.7,
                          "#b8e186"
                        ],
                        [
                          0.8,
                          "#7fbc41"
                        ],
                        [
                          0.9,
                          "#4d9221"
                        ],
                        [
                          1,
                          "#276419"
                        ]
                      ],
                      "sequential": [
                        [
                          0,
                          "#0d0887"
                        ],
                        [
                          0.1111111111111111,
                          "#46039f"
                        ],
                        [
                          0.2222222222222222,
                          "#7201a8"
                        ],
                        [
                          0.3333333333333333,
                          "#9c179e"
                        ],
                        [
                          0.4444444444444444,
                          "#bd3786"
                        ],
                        [
                          0.5555555555555556,
                          "#d8576b"
                        ],
                        [
                          0.6666666666666666,
                          "#ed7953"
                        ],
                        [
                          0.7777777777777778,
                          "#fb9f3a"
                        ],
                        [
                          0.8888888888888888,
                          "#fdca26"
                        ],
                        [
                          1,
                          "#f0f921"
                        ]
                      ],
                      "sequentialminus": [
                        [
                          0,
                          "#0d0887"
                        ],
                        [
                          0.1111111111111111,
                          "#46039f"
                        ],
                        [
                          0.2222222222222222,
                          "#7201a8"
                        ],
                        [
                          0.3333333333333333,
                          "#9c179e"
                        ],
                        [
                          0.4444444444444444,
                          "#bd3786"
                        ],
                        [
                          0.5555555555555556,
                          "#d8576b"
                        ],
                        [
                          0.6666666666666666,
                          "#ed7953"
                        ],
                        [
                          0.7777777777777778,
                          "#fb9f3a"
                        ],
                        [
                          0.8888888888888888,
                          "#fdca26"
                        ],
                        [
                          1,
                          "#f0f921"
                        ]
                      ]
                    },
                    "colorway": [
                      "#636efa",
                      "#EF553B",
                      "#00cc96",
                      "#ab63fa",
                      "#FFA15A",
                      "#19d3f3",
                      "#FF6692",
                      "#B6E880",
                      "#FF97FF",
                      "#FECB52"
                    ],
                    "font": {
                      "color": "#2a3f5f"
                    },
                    "geo": {
                      "bgcolor": "white",
                      "lakecolor": "white",
                      "landcolor": "#E5ECF6",
                      "showlakes": true,
                      "showland": true,
                      "subunitcolor": "white"
                    },
                    "hoverlabel": {
                      "align": "left"
                    },
                    "hovermode": "closest",
                    "mapbox": {
                      "style": "light"
                    },
                    "paper_bgcolor": "white",
                    "plot_bgcolor": "#E5ECF6",
                    "polar": {
                      "angularaxis": {
                        "gridcolor": "white",
                        "linecolor": "white",
                        "ticks": ""
                      },
                      "bgcolor": "#E5ECF6",
                      "radialaxis": {
                        "gridcolor": "white",
                        "linecolor": "white",
                        "ticks": ""
                      }
                    },
                    "scene": {
                      "xaxis": {
                        "backgroundcolor": "#E5ECF6",
                        "gridcolor": "white",
                        "gridwidth": 2,
                        "linecolor": "white",
                        "showbackground": true,
                        "ticks": "",
                        "zerolinecolor": "white"
                      },
                      "yaxis": {
                        "backgroundcolor": "#E5ECF6",
                        "gridcolor": "white",
                        "gridwidth": 2,
                        "linecolor": "white",
                        "showbackground": true,
                        "ticks": "",
                        "zerolinecolor": "white"
                      },
                      "zaxis": {
                        "backgroundcolor": "#E5ECF6",
                        "gridcolor": "white",
                        "gridwidth": 2,
                        "linecolor": "white",
                        "showbackground": true,
                        "ticks": "",
                        "zerolinecolor": "white"
                      }
                    },
                    "shapedefaults": {
                      "line": {
                        "color": "#2a3f5f"
                      }
                    },
                    "ternary": {
                      "aaxis": {
                        "gridcolor": "white",
                        "linecolor": "white",
                        "ticks": ""
                      },
                      "baxis": {
                        "gridcolor": "white",
                        "linecolor": "white",
                        "ticks": ""
                      },
                      "bgcolor": "#E5ECF6",
                      "caxis": {
                        "gridcolor": "white",
                        "linecolor": "white",
                        "ticks": ""
                      }
                    },
                    "title": {
                      "x": 0.05
                    },
                    "xaxis": {
                      "automargin": true,
                      "gridcolor": "white",
                      "linecolor": "white",
                      "ticks": "",
                      "title": {
                        "standoff": 15
                      },
                      "zerolinecolor": "white",
                      "zerolinewidth": 2
                    },
                    "yaxis": {
                      "automargin": true,
                      "gridcolor": "white",
                      "linecolor": "white",
                      "ticks": "",
                      "title": {
                        "standoff": 15
                      },
                      "zerolinecolor": "white",
                      "zerolinewidth": 2
                    }
                  }
                },
                "xaxis": {
                  "dtick": 1,
                  "gridcolor": "rgb(0, 0, 0)",
                  "side": "top",
                  "ticks": ""
                },
                "yaxis": {
                  "dtick": 1,
                  "ticks": "",
                  "ticksuffix": "  "
                }
              }
            }
          },
          "metadata": {},
          "output_type": "display_data"
        }
      ],
      "source": [
        "# Вычисляем корреляцию\n",
        "corr_matrix = df.corr()\n",
        "\n",
        "# Создаем тепловую карту (heatmap)\n",
        "fig = ff.create_annotated_heatmap(\n",
        "    z=corr_matrix.values,\n",
        "    x=list(corr_matrix.columns),\n",
        "    y=list(corr_matrix.index),\n",
        "    colorscale='Viridis',  # Цветовая схема\n",
        "    annotation_text=corr_matrix.round(2).values,  # Округляем до 2 знаков\n",
        "    showscale=True\n",
        ")\n",
        "# Отображаем график\n",
        "fig.show()"
      ]
    },
    {
      "cell_type": "markdown",
      "id": "56357eb6",
      "metadata": {},
      "source": [
        "## Построение модели"
      ]
    },
    {
      "cell_type": "code",
      "execution_count": 3,
      "id": "51f17016",
      "metadata": {
        "id": "51f17016"
      },
      "outputs": [],
      "source": [
        "numerical_features = [\"Age\", 'Annual_Premium']\n",
        "\n",
        "dropper = FunctionTransformer(drop_columns)\n",
        "mapper = FunctionTransformer(custom_mapping)\n",
        "\n",
        "preprocessor = ColumnTransformer(\n",
        "    transformers=[\n",
        "        ('num', StandardScaler(), numerical_features)\n",
        "    ]\n",
        ")"
      ]
    },
    {
      "cell_type": "code",
      "execution_count": 19,
      "id": "caa9e537",
      "metadata": {
        "id": "caa9e537"
      },
      "outputs": [],
      "source": [
        "data = df.copy()"
      ]
    },
    {
      "cell_type": "code",
      "execution_count": null,
      "id": "d919016a",
      "metadata": {
        "id": "d919016a"
      },
      "outputs": [],
      "source": [
        "# Разделение на признаки (X) и целевую переменную (y)\n",
        "X = data.drop('Response', axis=1)\n",
        "y = data['Response']\n",
        "\n",
        "max_train_size = 5_000_000\n",
        "X_train, X_test, y_train, y_test = train_test_split(X, y, train_size=max_train_size, shuffle=False, random_state=42)"
      ]
    },
    {
      "cell_type": "code",
      "execution_count": null,
      "id": "21ea90fa",
      "metadata": {},
      "outputs": [],
      "source": [
        "X_train_grid = custom_mapping(X_train)\n",
        "X_train_grid = drop_columns(X_train_grid)\n",
        "X_train_grid = preprocessor.fit_transform(X_train_grid)\n",
        "\n",
        "param_grid = {\n",
        "    'scale_pos_weight': [2.5, 3, 3.5],\n",
        "    # 'learning_rate': [0.01, 0.1],\n",
        "    # 'subsample': [0.8, 1.0],\n",
        "    # 'colsample_bytree': [0.8, 1.0],\n",
        "    # 'gamma': [0, 0.1, 0.2]\n",
        "}\n",
        "\n",
        "grid = GridSearchCV(\n",
        "    XGBClassifier(objective='binary:logistic', n_estimators=1000, eval_metric='aucpr'),\n",
        "    param_grid,\n",
        "    cv=5,#StratifiedKFold(n_splits=3),\n",
        "    scoring='f1',\n",
        ")\n",
        "\n",
        "grid.fit(X_train_grid, y_train)\n",
        "print(\"Лучшие параметры:\", grid.best_params_)\n",
        "print(\"Лучший F1:\", grid.best_score_)"
      ]
    },
    {
      "cell_type": "code",
      "execution_count": 59,
      "id": "b88cd444",
      "metadata": {
        "id": "b88cd444"
      },
      "outputs": [],
      "source": [
        "model_pipeline = Pipeline(steps=[\n",
        "    ('dropper', dropper),\n",
        "    ('mapper', mapper),\n",
        "    ('preprocessor', preprocessor),\n",
        "    ('classifier', XGBClassifier(\n",
        "                      scale_pos_weight=3,\n",
        "                      objective='binary:logistic',\n",
        "                      eval_metric='aucpr',\n",
        "                      learning_rate=0.1,\n",
        "                      max_depth=3,\n",
        "                      subsample=0.95,\n",
        "                      n_estimators=200,\n",
        "                      random_state=42,\n",
        "                      n_jobs=-1)),\n",
        "])"
      ]
    },
    {
      "cell_type": "code",
      "execution_count": 60,
      "id": "71de20df",
      "metadata": {
        "id": "71de20df",
        "outputId": "e25c2690-3dea-4949-e7bd-a48ce1e978cd"
      },
      "outputs": [
        {
          "data": {
            "text/html": [
              "<style>#sk-container-id-7 {\n",
              "  /* Definition of color scheme common for light and dark mode */\n",
              "  --sklearn-color-text: #000;\n",
              "  --sklearn-color-text-muted: #666;\n",
              "  --sklearn-color-line: gray;\n",
              "  /* Definition of color scheme for unfitted estimators */\n",
              "  --sklearn-color-unfitted-level-0: #fff5e6;\n",
              "  --sklearn-color-unfitted-level-1: #f6e4d2;\n",
              "  --sklearn-color-unfitted-level-2: #ffe0b3;\n",
              "  --sklearn-color-unfitted-level-3: chocolate;\n",
              "  /* Definition of color scheme for fitted estimators */\n",
              "  --sklearn-color-fitted-level-0: #f0f8ff;\n",
              "  --sklearn-color-fitted-level-1: #d4ebff;\n",
              "  --sklearn-color-fitted-level-2: #b3dbfd;\n",
              "  --sklearn-color-fitted-level-3: cornflowerblue;\n",
              "\n",
              "  /* Specific color for light theme */\n",
              "  --sklearn-color-text-on-default-background: var(--sg-text-color, var(--theme-code-foreground, var(--jp-content-font-color1, black)));\n",
              "  --sklearn-color-background: var(--sg-background-color, var(--theme-background, var(--jp-layout-color0, white)));\n",
              "  --sklearn-color-border-box: var(--sg-text-color, var(--theme-code-foreground, var(--jp-content-font-color1, black)));\n",
              "  --sklearn-color-icon: #696969;\n",
              "\n",
              "  @media (prefers-color-scheme: dark) {\n",
              "    /* Redefinition of color scheme for dark theme */\n",
              "    --sklearn-color-text-on-default-background: var(--sg-text-color, var(--theme-code-foreground, var(--jp-content-font-color1, white)));\n",
              "    --sklearn-color-background: var(--sg-background-color, var(--theme-background, var(--jp-layout-color0, #111)));\n",
              "    --sklearn-color-border-box: var(--sg-text-color, var(--theme-code-foreground, var(--jp-content-font-color1, white)));\n",
              "    --sklearn-color-icon: #878787;\n",
              "  }\n",
              "}\n",
              "\n",
              "#sk-container-id-7 {\n",
              "  color: var(--sklearn-color-text);\n",
              "}\n",
              "\n",
              "#sk-container-id-7 pre {\n",
              "  padding: 0;\n",
              "}\n",
              "\n",
              "#sk-container-id-7 input.sk-hidden--visually {\n",
              "  border: 0;\n",
              "  clip: rect(1px 1px 1px 1px);\n",
              "  clip: rect(1px, 1px, 1px, 1px);\n",
              "  height: 1px;\n",
              "  margin: -1px;\n",
              "  overflow: hidden;\n",
              "  padding: 0;\n",
              "  position: absolute;\n",
              "  width: 1px;\n",
              "}\n",
              "\n",
              "#sk-container-id-7 div.sk-dashed-wrapped {\n",
              "  border: 1px dashed var(--sklearn-color-line);\n",
              "  margin: 0 0.4em 0.5em 0.4em;\n",
              "  box-sizing: border-box;\n",
              "  padding-bottom: 0.4em;\n",
              "  background-color: var(--sklearn-color-background);\n",
              "}\n",
              "\n",
              "#sk-container-id-7 div.sk-container {\n",
              "  /* jupyter's `normalize.less` sets `[hidden] { display: none; }`\n",
              "     but bootstrap.min.css set `[hidden] { display: none !important; }`\n",
              "     so we also need the `!important` here to be able to override the\n",
              "     default hidden behavior on the sphinx rendered scikit-learn.org.\n",
              "     See: https://github.com/scikit-learn/scikit-learn/issues/21755 */\n",
              "  display: inline-block !important;\n",
              "  position: relative;\n",
              "}\n",
              "\n",
              "#sk-container-id-7 div.sk-text-repr-fallback {\n",
              "  display: none;\n",
              "}\n",
              "\n",
              "div.sk-parallel-item,\n",
              "div.sk-serial,\n",
              "div.sk-item {\n",
              "  /* draw centered vertical line to link estimators */\n",
              "  background-image: linear-gradient(var(--sklearn-color-text-on-default-background), var(--sklearn-color-text-on-default-background));\n",
              "  background-size: 2px 100%;\n",
              "  background-repeat: no-repeat;\n",
              "  background-position: center center;\n",
              "}\n",
              "\n",
              "/* Parallel-specific style estimator block */\n",
              "\n",
              "#sk-container-id-7 div.sk-parallel-item::after {\n",
              "  content: \"\";\n",
              "  width: 100%;\n",
              "  border-bottom: 2px solid var(--sklearn-color-text-on-default-background);\n",
              "  flex-grow: 1;\n",
              "}\n",
              "\n",
              "#sk-container-id-7 div.sk-parallel {\n",
              "  display: flex;\n",
              "  align-items: stretch;\n",
              "  justify-content: center;\n",
              "  background-color: var(--sklearn-color-background);\n",
              "  position: relative;\n",
              "}\n",
              "\n",
              "#sk-container-id-7 div.sk-parallel-item {\n",
              "  display: flex;\n",
              "  flex-direction: column;\n",
              "}\n",
              "\n",
              "#sk-container-id-7 div.sk-parallel-item:first-child::after {\n",
              "  align-self: flex-end;\n",
              "  width: 50%;\n",
              "}\n",
              "\n",
              "#sk-container-id-7 div.sk-parallel-item:last-child::after {\n",
              "  align-self: flex-start;\n",
              "  width: 50%;\n",
              "}\n",
              "\n",
              "#sk-container-id-7 div.sk-parallel-item:only-child::after {\n",
              "  width: 0;\n",
              "}\n",
              "\n",
              "/* Serial-specific style estimator block */\n",
              "\n",
              "#sk-container-id-7 div.sk-serial {\n",
              "  display: flex;\n",
              "  flex-direction: column;\n",
              "  align-items: center;\n",
              "  background-color: var(--sklearn-color-background);\n",
              "  padding-right: 1em;\n",
              "  padding-left: 1em;\n",
              "}\n",
              "\n",
              "\n",
              "/* Toggleable style: style used for estimator/Pipeline/ColumnTransformer box that is\n",
              "clickable and can be expanded/collapsed.\n",
              "- Pipeline and ColumnTransformer use this feature and define the default style\n",
              "- Estimators will overwrite some part of the style using the `sk-estimator` class\n",
              "*/\n",
              "\n",
              "/* Pipeline and ColumnTransformer style (default) */\n",
              "\n",
              "#sk-container-id-7 div.sk-toggleable {\n",
              "  /* Default theme specific background. It is overwritten whether we have a\n",
              "  specific estimator or a Pipeline/ColumnTransformer */\n",
              "  background-color: var(--sklearn-color-background);\n",
              "}\n",
              "\n",
              "/* Toggleable label */\n",
              "#sk-container-id-7 label.sk-toggleable__label {\n",
              "  cursor: pointer;\n",
              "  display: flex;\n",
              "  width: 100%;\n",
              "  margin-bottom: 0;\n",
              "  padding: 0.5em;\n",
              "  box-sizing: border-box;\n",
              "  text-align: center;\n",
              "  align-items: start;\n",
              "  justify-content: space-between;\n",
              "  gap: 0.5em;\n",
              "}\n",
              "\n",
              "#sk-container-id-7 label.sk-toggleable__label .caption {\n",
              "  font-size: 0.6rem;\n",
              "  font-weight: lighter;\n",
              "  color: var(--sklearn-color-text-muted);\n",
              "}\n",
              "\n",
              "#sk-container-id-7 label.sk-toggleable__label-arrow:before {\n",
              "  /* Arrow on the left of the label */\n",
              "  content: \"▸\";\n",
              "  float: left;\n",
              "  margin-right: 0.25em;\n",
              "  color: var(--sklearn-color-icon);\n",
              "}\n",
              "\n",
              "#sk-container-id-7 label.sk-toggleable__label-arrow:hover:before {\n",
              "  color: var(--sklearn-color-text);\n",
              "}\n",
              "\n",
              "/* Toggleable content - dropdown */\n",
              "\n",
              "#sk-container-id-7 div.sk-toggleable__content {\n",
              "  max-height: 0;\n",
              "  max-width: 0;\n",
              "  overflow: hidden;\n",
              "  text-align: left;\n",
              "  /* unfitted */\n",
              "  background-color: var(--sklearn-color-unfitted-level-0);\n",
              "}\n",
              "\n",
              "#sk-container-id-7 div.sk-toggleable__content.fitted {\n",
              "  /* fitted */\n",
              "  background-color: var(--sklearn-color-fitted-level-0);\n",
              "}\n",
              "\n",
              "#sk-container-id-7 div.sk-toggleable__content pre {\n",
              "  margin: 0.2em;\n",
              "  border-radius: 0.25em;\n",
              "  color: var(--sklearn-color-text);\n",
              "  /* unfitted */\n",
              "  background-color: var(--sklearn-color-unfitted-level-0);\n",
              "}\n",
              "\n",
              "#sk-container-id-7 div.sk-toggleable__content.fitted pre {\n",
              "  /* unfitted */\n",
              "  background-color: var(--sklearn-color-fitted-level-0);\n",
              "}\n",
              "\n",
              "#sk-container-id-7 input.sk-toggleable__control:checked~div.sk-toggleable__content {\n",
              "  /* Expand drop-down */\n",
              "  max-height: 200px;\n",
              "  max-width: 100%;\n",
              "  overflow: auto;\n",
              "}\n",
              "\n",
              "#sk-container-id-7 input.sk-toggleable__control:checked~label.sk-toggleable__label-arrow:before {\n",
              "  content: \"▾\";\n",
              "}\n",
              "\n",
              "/* Pipeline/ColumnTransformer-specific style */\n",
              "\n",
              "#sk-container-id-7 div.sk-label input.sk-toggleable__control:checked~label.sk-toggleable__label {\n",
              "  color: var(--sklearn-color-text);\n",
              "  background-color: var(--sklearn-color-unfitted-level-2);\n",
              "}\n",
              "\n",
              "#sk-container-id-7 div.sk-label.fitted input.sk-toggleable__control:checked~label.sk-toggleable__label {\n",
              "  background-color: var(--sklearn-color-fitted-level-2);\n",
              "}\n",
              "\n",
              "/* Estimator-specific style */\n",
              "\n",
              "/* Colorize estimator box */\n",
              "#sk-container-id-7 div.sk-estimator input.sk-toggleable__control:checked~label.sk-toggleable__label {\n",
              "  /* unfitted */\n",
              "  background-color: var(--sklearn-color-unfitted-level-2);\n",
              "}\n",
              "\n",
              "#sk-container-id-7 div.sk-estimator.fitted input.sk-toggleable__control:checked~label.sk-toggleable__label {\n",
              "  /* fitted */\n",
              "  background-color: var(--sklearn-color-fitted-level-2);\n",
              "}\n",
              "\n",
              "#sk-container-id-7 div.sk-label label.sk-toggleable__label,\n",
              "#sk-container-id-7 div.sk-label label {\n",
              "  /* The background is the default theme color */\n",
              "  color: var(--sklearn-color-text-on-default-background);\n",
              "}\n",
              "\n",
              "/* On hover, darken the color of the background */\n",
              "#sk-container-id-7 div.sk-label:hover label.sk-toggleable__label {\n",
              "  color: var(--sklearn-color-text);\n",
              "  background-color: var(--sklearn-color-unfitted-level-2);\n",
              "}\n",
              "\n",
              "/* Label box, darken color on hover, fitted */\n",
              "#sk-container-id-7 div.sk-label.fitted:hover label.sk-toggleable__label.fitted {\n",
              "  color: var(--sklearn-color-text);\n",
              "  background-color: var(--sklearn-color-fitted-level-2);\n",
              "}\n",
              "\n",
              "/* Estimator label */\n",
              "\n",
              "#sk-container-id-7 div.sk-label label {\n",
              "  font-family: monospace;\n",
              "  font-weight: bold;\n",
              "  display: inline-block;\n",
              "  line-height: 1.2em;\n",
              "}\n",
              "\n",
              "#sk-container-id-7 div.sk-label-container {\n",
              "  text-align: center;\n",
              "}\n",
              "\n",
              "/* Estimator-specific */\n",
              "#sk-container-id-7 div.sk-estimator {\n",
              "  font-family: monospace;\n",
              "  border: 1px dotted var(--sklearn-color-border-box);\n",
              "  border-radius: 0.25em;\n",
              "  box-sizing: border-box;\n",
              "  margin-bottom: 0.5em;\n",
              "  /* unfitted */\n",
              "  background-color: var(--sklearn-color-unfitted-level-0);\n",
              "}\n",
              "\n",
              "#sk-container-id-7 div.sk-estimator.fitted {\n",
              "  /* fitted */\n",
              "  background-color: var(--sklearn-color-fitted-level-0);\n",
              "}\n",
              "\n",
              "/* on hover */\n",
              "#sk-container-id-7 div.sk-estimator:hover {\n",
              "  /* unfitted */\n",
              "  background-color: var(--sklearn-color-unfitted-level-2);\n",
              "}\n",
              "\n",
              "#sk-container-id-7 div.sk-estimator.fitted:hover {\n",
              "  /* fitted */\n",
              "  background-color: var(--sklearn-color-fitted-level-2);\n",
              "}\n",
              "\n",
              "/* Specification for estimator info (e.g. \"i\" and \"?\") */\n",
              "\n",
              "/* Common style for \"i\" and \"?\" */\n",
              "\n",
              ".sk-estimator-doc-link,\n",
              "a:link.sk-estimator-doc-link,\n",
              "a:visited.sk-estimator-doc-link {\n",
              "  float: right;\n",
              "  font-size: smaller;\n",
              "  line-height: 1em;\n",
              "  font-family: monospace;\n",
              "  background-color: var(--sklearn-color-background);\n",
              "  border-radius: 1em;\n",
              "  height: 1em;\n",
              "  width: 1em;\n",
              "  text-decoration: none !important;\n",
              "  margin-left: 0.5em;\n",
              "  text-align: center;\n",
              "  /* unfitted */\n",
              "  border: var(--sklearn-color-unfitted-level-1) 1pt solid;\n",
              "  color: var(--sklearn-color-unfitted-level-1);\n",
              "}\n",
              "\n",
              ".sk-estimator-doc-link.fitted,\n",
              "a:link.sk-estimator-doc-link.fitted,\n",
              "a:visited.sk-estimator-doc-link.fitted {\n",
              "  /* fitted */\n",
              "  border: var(--sklearn-color-fitted-level-1) 1pt solid;\n",
              "  color: var(--sklearn-color-fitted-level-1);\n",
              "}\n",
              "\n",
              "/* On hover */\n",
              "div.sk-estimator:hover .sk-estimator-doc-link:hover,\n",
              ".sk-estimator-doc-link:hover,\n",
              "div.sk-label-container:hover .sk-estimator-doc-link:hover,\n",
              ".sk-estimator-doc-link:hover {\n",
              "  /* unfitted */\n",
              "  background-color: var(--sklearn-color-unfitted-level-3);\n",
              "  color: var(--sklearn-color-background);\n",
              "  text-decoration: none;\n",
              "}\n",
              "\n",
              "div.sk-estimator.fitted:hover .sk-estimator-doc-link.fitted:hover,\n",
              ".sk-estimator-doc-link.fitted:hover,\n",
              "div.sk-label-container:hover .sk-estimator-doc-link.fitted:hover,\n",
              ".sk-estimator-doc-link.fitted:hover {\n",
              "  /* fitted */\n",
              "  background-color: var(--sklearn-color-fitted-level-3);\n",
              "  color: var(--sklearn-color-background);\n",
              "  text-decoration: none;\n",
              "}\n",
              "\n",
              "/* Span, style for the box shown on hovering the info icon */\n",
              ".sk-estimator-doc-link span {\n",
              "  display: none;\n",
              "  z-index: 9999;\n",
              "  position: relative;\n",
              "  font-weight: normal;\n",
              "  right: .2ex;\n",
              "  padding: .5ex;\n",
              "  margin: .5ex;\n",
              "  width: min-content;\n",
              "  min-width: 20ex;\n",
              "  max-width: 50ex;\n",
              "  color: var(--sklearn-color-text);\n",
              "  box-shadow: 2pt 2pt 4pt #999;\n",
              "  /* unfitted */\n",
              "  background: var(--sklearn-color-unfitted-level-0);\n",
              "  border: .5pt solid var(--sklearn-color-unfitted-level-3);\n",
              "}\n",
              "\n",
              ".sk-estimator-doc-link.fitted span {\n",
              "  /* fitted */\n",
              "  background: var(--sklearn-color-fitted-level-0);\n",
              "  border: var(--sklearn-color-fitted-level-3);\n",
              "}\n",
              "\n",
              ".sk-estimator-doc-link:hover span {\n",
              "  display: block;\n",
              "}\n",
              "\n",
              "/* \"?\"-specific style due to the `<a>` HTML tag */\n",
              "\n",
              "#sk-container-id-7 a.estimator_doc_link {\n",
              "  float: right;\n",
              "  font-size: 1rem;\n",
              "  line-height: 1em;\n",
              "  font-family: monospace;\n",
              "  background-color: var(--sklearn-color-background);\n",
              "  border-radius: 1rem;\n",
              "  height: 1rem;\n",
              "  width: 1rem;\n",
              "  text-decoration: none;\n",
              "  /* unfitted */\n",
              "  color: var(--sklearn-color-unfitted-level-1);\n",
              "  border: var(--sklearn-color-unfitted-level-1) 1pt solid;\n",
              "}\n",
              "\n",
              "#sk-container-id-7 a.estimator_doc_link.fitted {\n",
              "  /* fitted */\n",
              "  border: var(--sklearn-color-fitted-level-1) 1pt solid;\n",
              "  color: var(--sklearn-color-fitted-level-1);\n",
              "}\n",
              "\n",
              "/* On hover */\n",
              "#sk-container-id-7 a.estimator_doc_link:hover {\n",
              "  /* unfitted */\n",
              "  background-color: var(--sklearn-color-unfitted-level-3);\n",
              "  color: var(--sklearn-color-background);\n",
              "  text-decoration: none;\n",
              "}\n",
              "\n",
              "#sk-container-id-7 a.estimator_doc_link.fitted:hover {\n",
              "  /* fitted */\n",
              "  background-color: var(--sklearn-color-fitted-level-3);\n",
              "}\n",
              "</style><div id=\"sk-container-id-7\" class=\"sk-top-container\"><div class=\"sk-text-repr-fallback\"><pre>Pipeline(steps=[(&#x27;dropper&#x27;,\n",
              "                 FunctionTransformer(func=&lt;function drop_columns at 0x000001D44B261EE0&gt;)),\n",
              "                (&#x27;mapper&#x27;,\n",
              "                 FunctionTransformer(func=&lt;function custom_mapping at 0x000001D44B261E40&gt;)),\n",
              "                (&#x27;preprocessor&#x27;,\n",
              "                 ColumnTransformer(transformers=[(&#x27;num&#x27;, StandardScaler(),\n",
              "                                                  [&#x27;Age&#x27;, &#x27;Annual_Premium&#x27;])])),\n",
              "                (&#x27;classifier&#x27;,\n",
              "                 XGBClassifier(base_score=None, booster=None, callbacks=Non...\n",
              "                               feature_types=None, feature_weights=None,\n",
              "                               gamma=None, grow_policy=None,\n",
              "                               importance_type=None,\n",
              "                               interaction_constraints=None, learning_rate=0.1,\n",
              "                               max_bin=None, max_cat_threshold=None,\n",
              "                               max_cat_to_onehot=None, max_delta_step=None,\n",
              "                               max_depth=3, max_leaves=None,\n",
              "                               min_child_weight=None, missing=nan,\n",
              "                               monotone_constraints=None, multi_strategy=None,\n",
              "                               n_estimators=200, n_jobs=-1,\n",
              "                               num_parallel_tree=None, ...))])</pre><b>In a Jupyter environment, please rerun this cell to show the HTML representation or trust the notebook. <br />On GitHub, the HTML representation is unable to render, please try loading this page with nbviewer.org.</b></div><div class=\"sk-container\" hidden><div class=\"sk-item sk-dashed-wrapped\"><div class=\"sk-label-container\"><div class=\"sk-label fitted sk-toggleable\"><input class=\"sk-toggleable__control sk-hidden--visually\" id=\"sk-estimator-id-37\" type=\"checkbox\" ><label for=\"sk-estimator-id-37\" class=\"sk-toggleable__label fitted sk-toggleable__label-arrow\"><div><div>Pipeline</div></div><div><a class=\"sk-estimator-doc-link fitted\" rel=\"noreferrer\" target=\"_blank\" href=\"https://scikit-learn.org/1.6/modules/generated/sklearn.pipeline.Pipeline.html\">?<span>Documentation for Pipeline</span></a><span class=\"sk-estimator-doc-link fitted\">i<span>Fitted</span></span></div></label><div class=\"sk-toggleable__content fitted\"><pre>Pipeline(steps=[(&#x27;dropper&#x27;,\n",
              "                 FunctionTransformer(func=&lt;function drop_columns at 0x000001D44B261EE0&gt;)),\n",
              "                (&#x27;mapper&#x27;,\n",
              "                 FunctionTransformer(func=&lt;function custom_mapping at 0x000001D44B261E40&gt;)),\n",
              "                (&#x27;preprocessor&#x27;,\n",
              "                 ColumnTransformer(transformers=[(&#x27;num&#x27;, StandardScaler(),\n",
              "                                                  [&#x27;Age&#x27;, &#x27;Annual_Premium&#x27;])])),\n",
              "                (&#x27;classifier&#x27;,\n",
              "                 XGBClassifier(base_score=None, booster=None, callbacks=Non...\n",
              "                               feature_types=None, feature_weights=None,\n",
              "                               gamma=None, grow_policy=None,\n",
              "                               importance_type=None,\n",
              "                               interaction_constraints=None, learning_rate=0.1,\n",
              "                               max_bin=None, max_cat_threshold=None,\n",
              "                               max_cat_to_onehot=None, max_delta_step=None,\n",
              "                               max_depth=3, max_leaves=None,\n",
              "                               min_child_weight=None, missing=nan,\n",
              "                               monotone_constraints=None, multi_strategy=None,\n",
              "                               n_estimators=200, n_jobs=-1,\n",
              "                               num_parallel_tree=None, ...))])</pre></div> </div></div><div class=\"sk-serial\"><div class=\"sk-item\"><div class=\"sk-estimator fitted sk-toggleable\"><input class=\"sk-toggleable__control sk-hidden--visually\" id=\"sk-estimator-id-38\" type=\"checkbox\" ><label for=\"sk-estimator-id-38\" class=\"sk-toggleable__label fitted sk-toggleable__label-arrow\"><div><div>drop_columns</div><div class=\"caption\">FunctionTransformer</div></div><div><a class=\"sk-estimator-doc-link fitted\" rel=\"noreferrer\" target=\"_blank\" href=\"https://scikit-learn.org/1.6/modules/generated/sklearn.preprocessing.FunctionTransformer.html\">?<span>Documentation for FunctionTransformer</span></a></div></label><div class=\"sk-toggleable__content fitted\"><pre>FunctionTransformer(func=&lt;function drop_columns at 0x000001D44B261EE0&gt;)</pre></div> </div></div><div class=\"sk-item\"><div class=\"sk-estimator fitted sk-toggleable\"><input class=\"sk-toggleable__control sk-hidden--visually\" id=\"sk-estimator-id-39\" type=\"checkbox\" ><label for=\"sk-estimator-id-39\" class=\"sk-toggleable__label fitted sk-toggleable__label-arrow\"><div><div>custom_mapping</div><div class=\"caption\">FunctionTransformer</div></div><div><a class=\"sk-estimator-doc-link fitted\" rel=\"noreferrer\" target=\"_blank\" href=\"https://scikit-learn.org/1.6/modules/generated/sklearn.preprocessing.FunctionTransformer.html\">?<span>Documentation for FunctionTransformer</span></a></div></label><div class=\"sk-toggleable__content fitted\"><pre>FunctionTransformer(func=&lt;function custom_mapping at 0x000001D44B261E40&gt;)</pre></div> </div></div><div class=\"sk-item sk-dashed-wrapped\"><div class=\"sk-label-container\"><div class=\"sk-label fitted sk-toggleable\"><input class=\"sk-toggleable__control sk-hidden--visually\" id=\"sk-estimator-id-40\" type=\"checkbox\" ><label for=\"sk-estimator-id-40\" class=\"sk-toggleable__label fitted sk-toggleable__label-arrow\"><div><div>preprocessor: ColumnTransformer</div></div><div><a class=\"sk-estimator-doc-link fitted\" rel=\"noreferrer\" target=\"_blank\" href=\"https://scikit-learn.org/1.6/modules/generated/sklearn.compose.ColumnTransformer.html\">?<span>Documentation for preprocessor: ColumnTransformer</span></a></div></label><div class=\"sk-toggleable__content fitted\"><pre>ColumnTransformer(transformers=[(&#x27;num&#x27;, StandardScaler(),\n",
              "                                 [&#x27;Age&#x27;, &#x27;Annual_Premium&#x27;])])</pre></div> </div></div><div class=\"sk-parallel\"><div class=\"sk-parallel-item\"><div class=\"sk-item\"><div class=\"sk-label-container\"><div class=\"sk-label fitted sk-toggleable\"><input class=\"sk-toggleable__control sk-hidden--visually\" id=\"sk-estimator-id-41\" type=\"checkbox\" ><label for=\"sk-estimator-id-41\" class=\"sk-toggleable__label fitted sk-toggleable__label-arrow\"><div><div>num</div></div></label><div class=\"sk-toggleable__content fitted\"><pre>[&#x27;Age&#x27;, &#x27;Annual_Premium&#x27;]</pre></div> </div></div><div class=\"sk-serial\"><div class=\"sk-item\"><div class=\"sk-estimator fitted sk-toggleable\"><input class=\"sk-toggleable__control sk-hidden--visually\" id=\"sk-estimator-id-42\" type=\"checkbox\" ><label for=\"sk-estimator-id-42\" class=\"sk-toggleable__label fitted sk-toggleable__label-arrow\"><div><div>StandardScaler</div></div><div><a class=\"sk-estimator-doc-link fitted\" rel=\"noreferrer\" target=\"_blank\" href=\"https://scikit-learn.org/1.6/modules/generated/sklearn.preprocessing.StandardScaler.html\">?<span>Documentation for StandardScaler</span></a></div></label><div class=\"sk-toggleable__content fitted\"><pre>StandardScaler()</pre></div> </div></div></div></div></div></div></div><div class=\"sk-item\"><div class=\"sk-estimator fitted sk-toggleable\"><input class=\"sk-toggleable__control sk-hidden--visually\" id=\"sk-estimator-id-43\" type=\"checkbox\" ><label for=\"sk-estimator-id-43\" class=\"sk-toggleable__label fitted sk-toggleable__label-arrow\"><div><div>XGBClassifier</div></div><div><a class=\"sk-estimator-doc-link fitted\" rel=\"noreferrer\" target=\"_blank\" href=\"https://xgboost.readthedocs.io/en/release_3.0.0/python/python_api.html#xgboost.XGBClassifier\">?<span>Documentation for XGBClassifier</span></a></div></label><div class=\"sk-toggleable__content fitted\"><pre>XGBClassifier(base_score=None, booster=None, callbacks=None,\n",
              "              colsample_bylevel=None, colsample_bynode=None,\n",
              "              colsample_bytree=None, device=None, early_stopping_rounds=None,\n",
              "              enable_categorical=False, eval_metric=&#x27;aucpr&#x27;, feature_types=None,\n",
              "              feature_weights=None, gamma=None, grow_policy=None,\n",
              "              importance_type=None, interaction_constraints=None,\n",
              "              learning_rate=0.1, max_bin=None, max_cat_threshold=None,\n",
              "              max_cat_to_onehot=None, max_delta_step=None, max_depth=3,\n",
              "              max_leaves=None, min_child_weight=None, missing=nan,\n",
              "              monotone_constraints=None, multi_strategy=None, n_estimators=200,\n",
              "              n_jobs=-1, num_parallel_tree=None, ...)</pre></div> </div></div></div></div></div></div>"
            ],
            "text/plain": [
              "Pipeline(steps=[('dropper',\n",
              "                 FunctionTransformer(func=<function drop_columns at 0x000001D44B261EE0>)),\n",
              "                ('mapper',\n",
              "                 FunctionTransformer(func=<function custom_mapping at 0x000001D44B261E40>)),\n",
              "                ('preprocessor',\n",
              "                 ColumnTransformer(transformers=[('num', StandardScaler(),\n",
              "                                                  ['Age', 'Annual_Premium'])])),\n",
              "                ('classifier',\n",
              "                 XGBClassifier(base_score=None, booster=None, callbacks=Non...\n",
              "                               feature_types=None, feature_weights=None,\n",
              "                               gamma=None, grow_policy=None,\n",
              "                               importance_type=None,\n",
              "                               interaction_constraints=None, learning_rate=0.1,\n",
              "                               max_bin=None, max_cat_threshold=None,\n",
              "                               max_cat_to_onehot=None, max_delta_step=None,\n",
              "                               max_depth=3, max_leaves=None,\n",
              "                               min_child_weight=None, missing=nan,\n",
              "                               monotone_constraints=None, multi_strategy=None,\n",
              "                               n_estimators=200, n_jobs=-1,\n",
              "                               num_parallel_tree=None, ...))])"
            ]
          },
          "execution_count": 60,
          "metadata": {},
          "output_type": "execute_result"
        }
      ],
      "source": [
        "model_pipeline.fit(X_train, y_train)"
      ]
    },
    {
      "cell_type": "code",
      "execution_count": 55,
      "id": "0892763f",
      "metadata": {
        "id": "0892763f"
      },
      "outputs": [],
      "source": [
        "with open('model_XGB.pkl', 'wb') as f:\n",
        "    pickle.dump(model_pipeline, f)"
      ]
    },
    {
      "cell_type": "markdown",
      "id": "3635701d",
      "metadata": {
        "id": "3635701d"
      },
      "source": [
        "# Test API"
      ]
    },
    {
      "cell_type": "code",
      "execution_count": 17,
      "id": "2aadf1c7",
      "metadata": {
        "id": "2aadf1c7"
      },
      "outputs": [],
      "source": [
        "\n",
        "data = pd.read_csv('train.csv')\n",
        "\n",
        "X = data.drop('Response', axis=1)\n",
        "y = data['Response']\n",
        "\n",
        "max_train_size = 5_000_000\n",
        "X_train, X_test, y_train, y_test = train_test_split(X, y, train_size=max_train_size, shuffle=False, random_state=42)"
      ]
    },
    {
      "cell_type": "code",
      "execution_count": 43,
      "id": "a85e3856",
      "metadata": {
        "id": "a85e3856",
        "outputId": "10950bf6-418e-4334-f27a-b539bab05c6d"
      },
      "outputs": [
        {
          "name": "stdout",
          "output_type": "stream",
          "text": [
            "{'id': 5000024, 'Gender': 'Male', 'Age': 61, 'Driving_License': 1, 'Region_Code': 36.0, 'Previously_Insured': 0, 'Vehicle_Age': '1-2 Year', 'Vehicle_Damage': 'Yes', 'Annual_Premium': 29063.0, 'Policy_Sales_Channel': 26.0, 'Vintage': 267}\n",
            "{'prediction': 'Response = 0'}\n"
          ]
        }
      ],
      "source": [
        "import requests\n",
        "\n",
        "def predict_model(data):\n",
        "    url = 'http://127.0.0.1:5000/predict_model'\n",
        "    print(data)\n",
        "\n",
        "    # Отправка POST-запроса с данными в формате форм-данных\n",
        "    response = requests.post(url, json=data)\n",
        "\n",
        "    # Проверка статуса ответа\n",
        "    if response.status_code == 200:\n",
        "        return response.json()\n",
        "    else:\n",
        "        return {\"error\": f\"Request failed with status code {response.status_code}\"}\n",
        "\n",
        "\n",
        "prediction = predict_model(X_test.iloc[24].to_dict())\n",
        "print(prediction)\n",
        "# for i in range(len(X_test)):\n",
        "#     if int(predict_model(X_test.iloc[i].to_dict())['prediction'][-1]) == 1:\n",
        "#         print(i)"
      ]
    },
    {
      "cell_type": "code",
      "execution_count": null,
      "id": "27d00b34",
      "metadata": {
        "id": "27d00b34",
        "outputId": "d20574bc-7460-404e-80a8-66df15dd7e98"
      },
      "outputs": [
        {
          "name": "stdout",
          "output_type": "stream",
          "text": [
            "Отправляемые данные: {\n",
            "  \"id\": 5000000,\n",
            "  \"Gender\": \"Female\",\n",
            "  \"Age\": 44,\n",
            "  \"Driving_License\": 1,\n",
            "  \"Region_Code\": 36.0,\n",
            "  \"Previously_Insured\": 1,\n",
            "  \"Vehicle_Age\": \"1-2 Year\",\n",
            "  \"Vehicle_Damage\": \"No\",\n",
            "  \"Annual_Premium\": 2630.0,\n",
            "  \"Policy_Sales_Channel\": 152.0,\n",
            "  \"Vintage\": 182\n",
            "}\n"
          ]
        }
      ],
      "source": [
        "import json\n",
        "\n",
        "data = X_test.iloc[0].to_dict()\n",
        "print(\"Отправляемые данные:\", json.dumps(data, indent=2))"
      ]
    },
    {
      "cell_type": "code",
      "execution_count": null,
      "id": "bf053bfa",
      "metadata": {
        "id": "bf053bfa"
      },
      "outputs": [],
      "source": [
        "# Загрузка модели из файла pickle\n",
        "with open('model_XGB.pkl', 'rb') as f:\n",
        "    model = pickle.load(f)"
      ]
    }
  ],
  "metadata": {
    "colab": {
      "provenance": [],
      "toc_visible": true
    },
    "kernelspec": {
      "display_name": "Python 3",
      "language": "python",
      "name": "python3"
    },
    "language_info": {
      "codemirror_mode": {
        "name": "ipython",
        "version": 3
      },
      "file_extension": ".py",
      "mimetype": "text/x-python",
      "name": "python",
      "nbconvert_exporter": "python",
      "pygments_lexer": "ipython3",
      "version": "3.13.3"
    }
  },
  "nbformat": 4,
  "nbformat_minor": 5
}
